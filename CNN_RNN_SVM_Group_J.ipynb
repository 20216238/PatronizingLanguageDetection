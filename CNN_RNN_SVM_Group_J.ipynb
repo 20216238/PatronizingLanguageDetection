{
  "cells": [
    {
      "cell_type": "markdown",
      "source": [
        "Please note the user must have the \"dontpatronizeme_pcl.tsv\" file uploaded into the same directory where this code is being ran from."
      ],
      "metadata": {
        "id": "kqrasIhjJOSj"
      }
    },
    {
      "cell_type": "markdown",
      "source": [
        "# Pip installations and libraries"
      ],
      "metadata": {
        "id": "FWmCNmfsJbT6"
      }
    },
    {
      "cell_type": "code",
      "execution_count": null,
      "metadata": {
        "id": "3u-rQ2CSwzWM"
      },
      "outputs": [],
      "source": [
        "pip install tensorflow-text"
      ]
    },
    {
      "cell_type": "code",
      "execution_count": null,
      "metadata": {
        "id": "CJ6zMfU0wzco"
      },
      "outputs": [],
      "source": [
        "#pip install tf-models-official"
      ]
    },
    {
      "cell_type": "code",
      "execution_count": null,
      "metadata": {
        "id": "s6AwLZ8CvgXz",
        "colab": {
          "base_uri": "https://localhost:8080/"
        },
        "outputId": "5b116b0d-a627-4b06-dff5-f41cf34052df"
      },
      "outputs": [
        {
          "output_type": "stream",
          "name": "stdout",
          "text": [
            "Collecting tensorflow_addons\n",
            "  Downloading tensorflow_addons-0.15.0-cp37-cp37m-manylinux_2_12_x86_64.manylinux2010_x86_64.whl (1.1 MB)\n",
            "\u001b[K     |████████████████████████████████| 1.1 MB 5.5 MB/s \n",
            "\u001b[?25hRequirement already satisfied: typeguard>=2.7 in /usr/local/lib/python3.7/dist-packages (from tensorflow_addons) (2.7.1)\n",
            "Installing collected packages: tensorflow-addons\n",
            "Successfully installed tensorflow-addons-0.15.0\n"
          ]
        }
      ],
      "source": [
        "pip install tensorflow_addons"
      ]
    },
    {
      "cell_type": "code",
      "execution_count": null,
      "metadata": {
        "id": "8uU_bgql2TBP"
      },
      "outputs": [],
      "source": [
        "pip install bert-for-tf2"
      ]
    },
    {
      "cell_type": "code",
      "execution_count": null,
      "metadata": {
        "id": "YPBf0zLgvwUn"
      },
      "outputs": [],
      "source": [
        "pip install tensorflow"
      ]
    },
    {
      "cell_type": "code",
      "execution_count": null,
      "metadata": {
        "id": "2RpNO_Ho0e5l"
      },
      "outputs": [],
      "source": [
        "import bert\n",
        "from bert import tokenization"
      ]
    },
    {
      "cell_type": "code",
      "execution_count": null,
      "metadata": {
        "id": "ZGk8xTMbUXIZ"
      },
      "outputs": [],
      "source": [
        "import numpy as np\n",
        "import pandas as pd\n",
        "import tensorflow as tf\n",
        "import tensorflow_hub as hub\n",
        "import tensorflow_text as text\n",
        "import re\n",
        "#from official.nlp import \n",
        "#import bert\n",
        "import tensorflow_hub as hub\n",
        "import math\n",
        "from tensorflow.keras import layers\n",
        "import tensorflow_addons as tfa"
      ]
    },
    {
      "cell_type": "code",
      "execution_count": null,
      "metadata": {
        "id": "6VEhc3IKWLWC"
      },
      "outputs": [],
      "source": [
        "import random\n",
        "import os\n",
        "from urllib import request\n",
        "import bert"
      ]
    },
    {
      "cell_type": "code",
      "source": [
        "import matplotlib.pyplot as plt\n",
        "from sklearn import datasets, metrics, model_selection, svm\n",
        "from tensorflow.keras import layers"
      ],
      "metadata": {
        "id": "TMCji_6mKVnv"
      },
      "execution_count": null,
      "outputs": []
    },
    {
      "cell_type": "code",
      "execution_count": null,
      "metadata": {
        "id": "lI1yeVaY6SLb"
      },
      "outputs": [],
      "source": [
        "from textblob import TextBlob"
      ]
    },
    {
      "cell_type": "code",
      "execution_count": null,
      "metadata": {
        "id": "8-7VDs73i96t"
      },
      "outputs": [],
      "source": [
        "from tensorflow.keras.layers import Input, Dropout, Dense\n",
        "from tensorflow.keras.models import Model\n",
        "from tensorflow.keras.optimizers import Adam\n",
        "from tensorflow.keras.callbacks import EarlyStopping\n",
        "from tensorflow.keras.initializers import TruncatedNormal\n",
        "from tensorflow.keras.losses import CategoricalCrossentropy\n",
        "from tensorflow.keras.losses import SparseCategoricalCrossentropy\n",
        "#from tensorflow.keras.losses import softmax_cross_entropy_with_logits\n",
        "from tensorflow.keras.metrics import CategoricalAccuracy\n",
        "from tensorflow.keras.utils import to_categorical"
      ]
    },
    {
      "cell_type": "code",
      "execution_count": null,
      "metadata": {
        "id": "jFFkbXd5i_At"
      },
      "outputs": [],
      "source": [
        "import pandas as pd\n",
        "from sklearn.model_selection import train_test_split\n",
        "from sklearn.feature_extraction.text import CountVectorizer"
      ]
    },
    {
      "cell_type": "code",
      "execution_count": null,
      "metadata": {
        "id": "W_kt3bcVGj1-"
      },
      "outputs": [],
      "source": [
        "import nltk\n"
      ]
    },
    {
      "cell_type": "code",
      "execution_count": null,
      "metadata": {
        "id": "OqjUEzZljOY-"
      },
      "outputs": [],
      "source": [
        "from nltk import word_tokenize"
      ]
    },
    {
      "cell_type": "code",
      "execution_count": null,
      "metadata": {
        "id": "fwfUZujUjOUU"
      },
      "outputs": [],
      "source": [
        "from bert import bert_tokenization\n",
        "from nltk.stem import WordNetLemmatizer\n",
        "from nltk import pos_tag\n",
        "from nltk.corpus import stopwords\n",
        "from collections import defaultdict\n",
        "from nltk.corpus import wordnet as wn\n",
        "\n",
        "from sklearn.feature_extraction.text import TfidfVectorizer\n",
        "from sklearn import model_selection, naive_bayes, svm\n",
        "from sklearn.metrics import accuracy_score\n",
        "from sklearn.preprocessing import LabelEncoder\n",
        "\n",
        "from sklearn.metrics import confusion_matrix\n",
        "from sklearn.metrics import classification_report\n",
        "from keras.preprocessing.text import Tokenizer\n",
        "from keras.layers import Dense, Embedding, LSTM, SpatialDropout1D\n",
        "from sklearn.metrics import roc_curve"
      ]
    },
    {
      "cell_type": "code",
      "source": [
        "from sklearn.model_selection import GridSearchCV\n",
        "from keras.preprocessing.sequence import pad_sequences\n",
        "from keras.models import Sequential\n",
        "from sklearn.metrics import precision_score\n",
        "from sklearn.metrics import recall_score\n",
        "import matplotlib.pyplot as plt\n",
        "from sklearn.metrics import f1_score\n",
        "from sklearn.svm import SVC"
      ],
      "metadata": {
        "id": "KbqS4dMPnL5m"
      },
      "execution_count": null,
      "outputs": []
    },
    {
      "cell_type": "markdown",
      "source": [
        "# Data"
      ],
      "metadata": {
        "id": "YGis6UkfJiHc"
      }
    },
    {
      "cell_type": "code",
      "execution_count": null,
      "metadata": {
        "id": "lo2Saj6TjOOa"
      },
      "outputs": [],
      "source": [
        "nltk.download(\"popular\")\n",
        "nltk.download('punkt')\n",
        "nltk.download('wordnet')\n",
        "nltk.download('stopwords')"
      ]
    },
    {
      "cell_type": "code",
      "execution_count": null,
      "metadata": {
        "colab": {
          "base_uri": "https://localhost:8080/"
        },
        "id": "hrb9dwBAWDNK",
        "outputId": "a8c36e2a-7dc4-4ef6-9154-f086b65c3ec5"
      },
      "outputs": [
        {
          "output_type": "stream",
          "name": "stdout",
          "text": [
            "Fetching https://raw.githubusercontent.com/Perez-AlmendrosC/dontpatronizeme/master/semeval-2022/dont_patronize_me.py\n"
          ]
        }
      ],
      "source": [
        "module_url = f\"https://raw.githubusercontent.com/Perez-AlmendrosC/dontpatronizeme/master/semeval-2022/dont_patronize_me.py\"\n",
        "module_name = module_url.split('/')[-1]\n",
        "print(f'Fetching {module_url}')\n",
        "#with open(\"file_1.txt\") as f1, open(\"file_2.txt\") as f2\n",
        "with request.urlopen(module_url) as f, open(module_name,'w') as outf:\n",
        "  a = f.read()\n",
        "  outf.write(a.decode('utf-8'))"
      ]
    },
    {
      "cell_type": "code",
      "execution_count": null,
      "metadata": {
        "id": "utJkruAfWFn9"
      },
      "outputs": [],
      "source": [
        "from dont_patronize_me import DontPatronizeMe\n",
        "dpm_data = DontPatronizeMe('.', 'dontpatronizeme_pcl.tsv')"
      ]
    },
    {
      "cell_type": "code",
      "execution_count": null,
      "metadata": {
        "id": "06E4mdPbWFca",
        "colab": {
          "base_uri": "https://localhost:8080/",
          "height": 206
        },
        "outputId": "b2cc0bea-a3d3-4df8-e454-27c1792c76b8"
      },
      "outputs": [
        {
          "output_type": "execute_result",
          "data": {
            "text/html": [
              "\n",
              "  <div id=\"df-a2c21f3d-fabb-45d6-b872-763a58bd0e02\">\n",
              "    <div class=\"colab-df-container\">\n",
              "      <div>\n",
              "<style scoped>\n",
              "    .dataframe tbody tr th:only-of-type {\n",
              "        vertical-align: middle;\n",
              "    }\n",
              "\n",
              "    .dataframe tbody tr th {\n",
              "        vertical-align: top;\n",
              "    }\n",
              "\n",
              "    .dataframe thead th {\n",
              "        text-align: right;\n",
              "    }\n",
              "</style>\n",
              "<table border=\"1\" class=\"dataframe\">\n",
              "  <thead>\n",
              "    <tr style=\"text-align: right;\">\n",
              "      <th></th>\n",
              "      <th>par_id</th>\n",
              "      <th>art_id</th>\n",
              "      <th>keyword</th>\n",
              "      <th>country</th>\n",
              "      <th>text</th>\n",
              "      <th>label</th>\n",
              "      <th>orig_label</th>\n",
              "    </tr>\n",
              "  </thead>\n",
              "  <tbody>\n",
              "    <tr>\n",
              "      <th>0</th>\n",
              "      <td>@@23953477</td>\n",
              "      <td>in-need</td>\n",
              "      <td>in</td>\n",
              "      <td>The ones in need of constant medical care are ...</td>\n",
              "      <td>0</td>\n",
              "      <td>0</td>\n",
              "      <td>0</td>\n",
              "    </tr>\n",
              "    <tr>\n",
              "      <th>1</th>\n",
              "      <td>@@4703096</td>\n",
              "      <td>immigrant</td>\n",
              "      <td>jm</td>\n",
              "      <td>NBC and Spanish-language Univision both declin...</td>\n",
              "      <td>0</td>\n",
              "      <td>0</td>\n",
              "      <td>0</td>\n",
              "    </tr>\n",
              "    <tr>\n",
              "      <th>2</th>\n",
              "      <td>@@25567226</td>\n",
              "      <td>in-need</td>\n",
              "      <td>hk</td>\n",
              "      <td>A second T-Home project is being launched in t...</td>\n",
              "      <td>0</td>\n",
              "      <td>0</td>\n",
              "      <td>0</td>\n",
              "    </tr>\n",
              "    <tr>\n",
              "      <th>3</th>\n",
              "      <td>@@1824078</td>\n",
              "      <td>poor-families</td>\n",
              "      <td>tz</td>\n",
              "      <td>Camfed would like to see this trend reversed ....</td>\n",
              "      <td>4</td>\n",
              "      <td>1</td>\n",
              "      <td>4</td>\n",
              "    </tr>\n",
              "    <tr>\n",
              "      <th>4</th>\n",
              "      <td>@@1921089</td>\n",
              "      <td>refugee</td>\n",
              "      <td>tz</td>\n",
              "      <td>Kagunga village was reported to lack necessary...</td>\n",
              "      <td>0</td>\n",
              "      <td>0</td>\n",
              "      <td>0</td>\n",
              "    </tr>\n",
              "  </tbody>\n",
              "</table>\n",
              "</div>\n",
              "      <button class=\"colab-df-convert\" onclick=\"convertToInteractive('df-a2c21f3d-fabb-45d6-b872-763a58bd0e02')\"\n",
              "              title=\"Convert this dataframe to an interactive table.\"\n",
              "              style=\"display:none;\">\n",
              "        \n",
              "  <svg xmlns=\"http://www.w3.org/2000/svg\" height=\"24px\"viewBox=\"0 0 24 24\"\n",
              "       width=\"24px\">\n",
              "    <path d=\"M0 0h24v24H0V0z\" fill=\"none\"/>\n",
              "    <path d=\"M18.56 5.44l.94 2.06.94-2.06 2.06-.94-2.06-.94-.94-2.06-.94 2.06-2.06.94zm-11 1L8.5 8.5l.94-2.06 2.06-.94-2.06-.94L8.5 2.5l-.94 2.06-2.06.94zm10 10l.94 2.06.94-2.06 2.06-.94-2.06-.94-.94-2.06-.94 2.06-2.06.94z\"/><path d=\"M17.41 7.96l-1.37-1.37c-.4-.4-.92-.59-1.43-.59-.52 0-1.04.2-1.43.59L10.3 9.45l-7.72 7.72c-.78.78-.78 2.05 0 2.83L4 21.41c.39.39.9.59 1.41.59.51 0 1.02-.2 1.41-.59l7.78-7.78 2.81-2.81c.8-.78.8-2.07 0-2.86zM5.41 20L4 18.59l7.72-7.72 1.47 1.35L5.41 20z\"/>\n",
              "  </svg>\n",
              "      </button>\n",
              "      \n",
              "  <style>\n",
              "    .colab-df-container {\n",
              "      display:flex;\n",
              "      flex-wrap:wrap;\n",
              "      gap: 12px;\n",
              "    }\n",
              "\n",
              "    .colab-df-convert {\n",
              "      background-color: #E8F0FE;\n",
              "      border: none;\n",
              "      border-radius: 50%;\n",
              "      cursor: pointer;\n",
              "      display: none;\n",
              "      fill: #1967D2;\n",
              "      height: 32px;\n",
              "      padding: 0 0 0 0;\n",
              "      width: 32px;\n",
              "    }\n",
              "\n",
              "    .colab-df-convert:hover {\n",
              "      background-color: #E2EBFA;\n",
              "      box-shadow: 0px 1px 2px rgba(60, 64, 67, 0.3), 0px 1px 3px 1px rgba(60, 64, 67, 0.15);\n",
              "      fill: #174EA6;\n",
              "    }\n",
              "\n",
              "    [theme=dark] .colab-df-convert {\n",
              "      background-color: #3B4455;\n",
              "      fill: #D2E3FC;\n",
              "    }\n",
              "\n",
              "    [theme=dark] .colab-df-convert:hover {\n",
              "      background-color: #434B5C;\n",
              "      box-shadow: 0px 1px 3px 1px rgba(0, 0, 0, 0.15);\n",
              "      filter: drop-shadow(0px 1px 2px rgba(0, 0, 0, 0.3));\n",
              "      fill: #FFFFFF;\n",
              "    }\n",
              "  </style>\n",
              "\n",
              "      <script>\n",
              "        const buttonEl =\n",
              "          document.querySelector('#df-a2c21f3d-fabb-45d6-b872-763a58bd0e02 button.colab-df-convert');\n",
              "        buttonEl.style.display =\n",
              "          google.colab.kernel.accessAllowed ? 'block' : 'none';\n",
              "\n",
              "        async function convertToInteractive(key) {\n",
              "          const element = document.querySelector('#df-a2c21f3d-fabb-45d6-b872-763a58bd0e02');\n",
              "          const dataTable =\n",
              "            await google.colab.kernel.invokeFunction('convertToInteractive',\n",
              "                                                     [key], {});\n",
              "          if (!dataTable) return;\n",
              "\n",
              "          const docLinkHtml = 'Like what you see? Visit the ' +\n",
              "            '<a target=\"_blank\" href=https://colab.research.google.com/notebooks/data_table.ipynb>data table notebook</a>'\n",
              "            + ' to learn more about interactive tables.';\n",
              "          element.innerHTML = '';\n",
              "          dataTable['output_type'] = 'display_data';\n",
              "          await google.colab.output.renderOutput(dataTable, element);\n",
              "          const docLink = document.createElement('div');\n",
              "          docLink.innerHTML = docLinkHtml;\n",
              "          element.appendChild(docLink);\n",
              "        }\n",
              "      </script>\n",
              "    </div>\n",
              "  </div>\n",
              "  "
            ],
            "text/plain": [
              "       par_id         art_id keyword  ... text label  orig_label\n",
              "0  @@23953477        in-need      in  ...    0     0           0\n",
              "1   @@4703096      immigrant      jm  ...    0     0           0\n",
              "2  @@25567226        in-need      hk  ...    0     0           0\n",
              "3   @@1824078  poor-families      tz  ...    4     1           4\n",
              "4   @@1921089        refugee      tz  ...    0     0           0\n",
              "\n",
              "[5 rows x 7 columns]"
            ]
          },
          "metadata": {},
          "execution_count": 13
        }
      ],
      "source": [
        "dpm_data.load_task1()\n",
        "dpm_data.train_task1_df.head()"
      ]
    },
    {
      "cell_type": "code",
      "execution_count": null,
      "metadata": {
        "id": "BvgRI2c5n6wV"
      },
      "outputs": [],
      "source": [
        "data=dpm_data.train_task1_df"
      ]
    },
    {
      "cell_type": "code",
      "execution_count": null,
      "metadata": {
        "colab": {
          "base_uri": "https://localhost:8080/"
        },
        "id": "RcYoOaWFnYDt",
        "outputId": "972faa93-a476-4377-bb73-07bd67a3d216"
      },
      "outputs": [
        {
          "name": "stdout",
          "output_type": "stream",
          "text": [
            "2.7.0\n"
          ]
        }
      ],
      "source": [
        "print(tf.__version__)"
      ]
    },
    {
      "cell_type": "code",
      "execution_count": null,
      "metadata": {
        "id": "vsgRVBBlVBzt"
      },
      "outputs": [],
      "source": [
        "import matplotlib.pyplot as plt\n",
        "\n",
        "tf.get_logger().setLevel('ERROR')"
      ]
    },
    {
      "cell_type": "markdown",
      "metadata": {
        "id": "O3dARVciz7it"
      },
      "source": [
        "# CNN Model"
      ]
    },
    {
      "cell_type": "code",
      "execution_count": null,
      "metadata": {
        "colab": {
          "base_uri": "https://localhost:8080/",
          "height": 206
        },
        "id": "QvWer6dptcud",
        "outputId": "70acf2b8-8d7d-41a3-8e8f-203611ee8608"
      },
      "outputs": [
        {
          "output_type": "execute_result",
          "data": {
            "text/html": [
              "\n",
              "  <div id=\"df-9647550a-cefb-4139-9a07-3a9995508692\">\n",
              "    <div class=\"colab-df-container\">\n",
              "      <div>\n",
              "<style scoped>\n",
              "    .dataframe tbody tr th:only-of-type {\n",
              "        vertical-align: middle;\n",
              "    }\n",
              "\n",
              "    .dataframe tbody tr th {\n",
              "        vertical-align: top;\n",
              "    }\n",
              "\n",
              "    .dataframe thead th {\n",
              "        text-align: right;\n",
              "    }\n",
              "</style>\n",
              "<table border=\"1\" class=\"dataframe\">\n",
              "  <thead>\n",
              "    <tr style=\"text-align: right;\">\n",
              "      <th></th>\n",
              "      <th>par_id</th>\n",
              "      <th>art_id</th>\n",
              "      <th>keyword</th>\n",
              "      <th>country</th>\n",
              "      <th>text</th>\n",
              "      <th>label</th>\n",
              "      <th>orig_label</th>\n",
              "    </tr>\n",
              "  </thead>\n",
              "  <tbody>\n",
              "    <tr>\n",
              "      <th>0</th>\n",
              "      <td>@@23953477</td>\n",
              "      <td>in-need</td>\n",
              "      <td>in</td>\n",
              "      <td>The ones in need of constant medical care are ...</td>\n",
              "      <td>0</td>\n",
              "      <td>0</td>\n",
              "      <td>0</td>\n",
              "    </tr>\n",
              "    <tr>\n",
              "      <th>1</th>\n",
              "      <td>@@4703096</td>\n",
              "      <td>immigrant</td>\n",
              "      <td>jm</td>\n",
              "      <td>NBC and Spanish-language Univision both declin...</td>\n",
              "      <td>0</td>\n",
              "      <td>0</td>\n",
              "      <td>0</td>\n",
              "    </tr>\n",
              "    <tr>\n",
              "      <th>2</th>\n",
              "      <td>@@25567226</td>\n",
              "      <td>in-need</td>\n",
              "      <td>hk</td>\n",
              "      <td>A second T-Home project is being launched in t...</td>\n",
              "      <td>0</td>\n",
              "      <td>0</td>\n",
              "      <td>0</td>\n",
              "    </tr>\n",
              "    <tr>\n",
              "      <th>3</th>\n",
              "      <td>@@1824078</td>\n",
              "      <td>poor-families</td>\n",
              "      <td>tz</td>\n",
              "      <td>Camfed would like to see this trend reversed ....</td>\n",
              "      <td>4</td>\n",
              "      <td>1</td>\n",
              "      <td>4</td>\n",
              "    </tr>\n",
              "    <tr>\n",
              "      <th>4</th>\n",
              "      <td>@@1921089</td>\n",
              "      <td>refugee</td>\n",
              "      <td>tz</td>\n",
              "      <td>Kagunga village was reported to lack necessary...</td>\n",
              "      <td>0</td>\n",
              "      <td>0</td>\n",
              "      <td>0</td>\n",
              "    </tr>\n",
              "  </tbody>\n",
              "</table>\n",
              "</div>\n",
              "      <button class=\"colab-df-convert\" onclick=\"convertToInteractive('df-9647550a-cefb-4139-9a07-3a9995508692')\"\n",
              "              title=\"Convert this dataframe to an interactive table.\"\n",
              "              style=\"display:none;\">\n",
              "        \n",
              "  <svg xmlns=\"http://www.w3.org/2000/svg\" height=\"24px\"viewBox=\"0 0 24 24\"\n",
              "       width=\"24px\">\n",
              "    <path d=\"M0 0h24v24H0V0z\" fill=\"none\"/>\n",
              "    <path d=\"M18.56 5.44l.94 2.06.94-2.06 2.06-.94-2.06-.94-.94-2.06-.94 2.06-2.06.94zm-11 1L8.5 8.5l.94-2.06 2.06-.94-2.06-.94L8.5 2.5l-.94 2.06-2.06.94zm10 10l.94 2.06.94-2.06 2.06-.94-2.06-.94-.94-2.06-.94 2.06-2.06.94z\"/><path d=\"M17.41 7.96l-1.37-1.37c-.4-.4-.92-.59-1.43-.59-.52 0-1.04.2-1.43.59L10.3 9.45l-7.72 7.72c-.78.78-.78 2.05 0 2.83L4 21.41c.39.39.9.59 1.41.59.51 0 1.02-.2 1.41-.59l7.78-7.78 2.81-2.81c.8-.78.8-2.07 0-2.86zM5.41 20L4 18.59l7.72-7.72 1.47 1.35L5.41 20z\"/>\n",
              "  </svg>\n",
              "      </button>\n",
              "      \n",
              "  <style>\n",
              "    .colab-df-container {\n",
              "      display:flex;\n",
              "      flex-wrap:wrap;\n",
              "      gap: 12px;\n",
              "    }\n",
              "\n",
              "    .colab-df-convert {\n",
              "      background-color: #E8F0FE;\n",
              "      border: none;\n",
              "      border-radius: 50%;\n",
              "      cursor: pointer;\n",
              "      display: none;\n",
              "      fill: #1967D2;\n",
              "      height: 32px;\n",
              "      padding: 0 0 0 0;\n",
              "      width: 32px;\n",
              "    }\n",
              "\n",
              "    .colab-df-convert:hover {\n",
              "      background-color: #E2EBFA;\n",
              "      box-shadow: 0px 1px 2px rgba(60, 64, 67, 0.3), 0px 1px 3px 1px rgba(60, 64, 67, 0.15);\n",
              "      fill: #174EA6;\n",
              "    }\n",
              "\n",
              "    [theme=dark] .colab-df-convert {\n",
              "      background-color: #3B4455;\n",
              "      fill: #D2E3FC;\n",
              "    }\n",
              "\n",
              "    [theme=dark] .colab-df-convert:hover {\n",
              "      background-color: #434B5C;\n",
              "      box-shadow: 0px 1px 3px 1px rgba(0, 0, 0, 0.15);\n",
              "      filter: drop-shadow(0px 1px 2px rgba(0, 0, 0, 0.3));\n",
              "      fill: #FFFFFF;\n",
              "    }\n",
              "  </style>\n",
              "\n",
              "      <script>\n",
              "        const buttonEl =\n",
              "          document.querySelector('#df-9647550a-cefb-4139-9a07-3a9995508692 button.colab-df-convert');\n",
              "        buttonEl.style.display =\n",
              "          google.colab.kernel.accessAllowed ? 'block' : 'none';\n",
              "\n",
              "        async function convertToInteractive(key) {\n",
              "          const element = document.querySelector('#df-9647550a-cefb-4139-9a07-3a9995508692');\n",
              "          const dataTable =\n",
              "            await google.colab.kernel.invokeFunction('convertToInteractive',\n",
              "                                                     [key], {});\n",
              "          if (!dataTable) return;\n",
              "\n",
              "          const docLinkHtml = 'Like what you see? Visit the ' +\n",
              "            '<a target=\"_blank\" href=https://colab.research.google.com/notebooks/data_table.ipynb>data table notebook</a>'\n",
              "            + ' to learn more about interactive tables.';\n",
              "          element.innerHTML = '';\n",
              "          dataTable['output_type'] = 'display_data';\n",
              "          await google.colab.output.renderOutput(dataTable, element);\n",
              "          const docLink = document.createElement('div');\n",
              "          docLink.innerHTML = docLinkHtml;\n",
              "          element.appendChild(docLink);\n",
              "        }\n",
              "      </script>\n",
              "    </div>\n",
              "  </div>\n",
              "  "
            ],
            "text/plain": [
              "       par_id         art_id keyword  ... text label  orig_label\n",
              "0  @@23953477        in-need      in  ...    0     0           0\n",
              "1   @@4703096      immigrant      jm  ...    0     0           0\n",
              "2  @@25567226        in-need      hk  ...    0     0           0\n",
              "3   @@1824078  poor-families      tz  ...    4     1           4\n",
              "4   @@1921089        refugee      tz  ...    0     0           0\n",
              "\n",
              "[5 rows x 7 columns]"
            ]
          },
          "metadata": {},
          "execution_count": 83
        }
      ],
      "source": [
        "data.head()"
      ]
    },
    {
      "cell_type": "code",
      "execution_count": null,
      "metadata": {
        "id": "WXpEF5WwtelT"
      },
      "outputs": [],
      "source": [
        "df_CNN=data"
      ]
    },
    {
      "cell_type": "code",
      "execution_count": null,
      "metadata": {
        "id": "FYCXld4fspQ7"
      },
      "outputs": [],
      "source": [
        "#df2=df2.drop(\"country\",1)\n",
        "df_CNN=df_CNN.drop(\"art_id\",1)\n",
        "df_CNN=df_CNN.drop(\"par_id\",1)\n",
        "df_CNN=df_CNN.drop(\"keyword\",1)\n",
        "df_CNN=df_CNN.drop(\"text\",1)\n",
        "df_CNN=df_CNN.drop(\"orig_label\",1)\n",
        "df_CNN = df_CNN.rename(columns={'country': 'paragraph'})"
      ]
    },
    {
      "cell_type": "code",
      "execution_count": null,
      "metadata": {
        "id": "aNj6dqs81TNm"
      },
      "outputs": [],
      "source": [
        "data_cleaned=df_CNN"
      ]
    },
    {
      "cell_type": "code",
      "execution_count": null,
      "metadata": {
        "colab": {
          "base_uri": "https://localhost:8080/",
          "height": 206
        },
        "id": "QnyjxqhJuBQr",
        "outputId": "b202eaa5-873a-406a-cb11-a12be11bed61"
      },
      "outputs": [
        {
          "output_type": "execute_result",
          "data": {
            "text/html": [
              "\n",
              "  <div id=\"df-837a8f70-0054-498d-bb7c-19a701a6b575\">\n",
              "    <div class=\"colab-df-container\">\n",
              "      <div>\n",
              "<style scoped>\n",
              "    .dataframe tbody tr th:only-of-type {\n",
              "        vertical-align: middle;\n",
              "    }\n",
              "\n",
              "    .dataframe tbody tr th {\n",
              "        vertical-align: top;\n",
              "    }\n",
              "\n",
              "    .dataframe thead th {\n",
              "        text-align: right;\n",
              "    }\n",
              "</style>\n",
              "<table border=\"1\" class=\"dataframe\">\n",
              "  <thead>\n",
              "    <tr style=\"text-align: right;\">\n",
              "      <th></th>\n",
              "      <th>paragraph</th>\n",
              "      <th>label</th>\n",
              "    </tr>\n",
              "  </thead>\n",
              "  <tbody>\n",
              "    <tr>\n",
              "      <th>0</th>\n",
              "      <td>The ones in need of constant medical care are ...</td>\n",
              "      <td>0</td>\n",
              "    </tr>\n",
              "    <tr>\n",
              "      <th>1</th>\n",
              "      <td>NBC and Spanish-language Univision both declin...</td>\n",
              "      <td>0</td>\n",
              "    </tr>\n",
              "    <tr>\n",
              "      <th>2</th>\n",
              "      <td>A second T-Home project is being launched in t...</td>\n",
              "      <td>0</td>\n",
              "    </tr>\n",
              "    <tr>\n",
              "      <th>3</th>\n",
              "      <td>Camfed would like to see this trend reversed ....</td>\n",
              "      <td>1</td>\n",
              "    </tr>\n",
              "    <tr>\n",
              "      <th>4</th>\n",
              "      <td>Kagunga village was reported to lack necessary...</td>\n",
              "      <td>0</td>\n",
              "    </tr>\n",
              "  </tbody>\n",
              "</table>\n",
              "</div>\n",
              "      <button class=\"colab-df-convert\" onclick=\"convertToInteractive('df-837a8f70-0054-498d-bb7c-19a701a6b575')\"\n",
              "              title=\"Convert this dataframe to an interactive table.\"\n",
              "              style=\"display:none;\">\n",
              "        \n",
              "  <svg xmlns=\"http://www.w3.org/2000/svg\" height=\"24px\"viewBox=\"0 0 24 24\"\n",
              "       width=\"24px\">\n",
              "    <path d=\"M0 0h24v24H0V0z\" fill=\"none\"/>\n",
              "    <path d=\"M18.56 5.44l.94 2.06.94-2.06 2.06-.94-2.06-.94-.94-2.06-.94 2.06-2.06.94zm-11 1L8.5 8.5l.94-2.06 2.06-.94-2.06-.94L8.5 2.5l-.94 2.06-2.06.94zm10 10l.94 2.06.94-2.06 2.06-.94-2.06-.94-.94-2.06-.94 2.06-2.06.94z\"/><path d=\"M17.41 7.96l-1.37-1.37c-.4-.4-.92-.59-1.43-.59-.52 0-1.04.2-1.43.59L10.3 9.45l-7.72 7.72c-.78.78-.78 2.05 0 2.83L4 21.41c.39.39.9.59 1.41.59.51 0 1.02-.2 1.41-.59l7.78-7.78 2.81-2.81c.8-.78.8-2.07 0-2.86zM5.41 20L4 18.59l7.72-7.72 1.47 1.35L5.41 20z\"/>\n",
              "  </svg>\n",
              "      </button>\n",
              "      \n",
              "  <style>\n",
              "    .colab-df-container {\n",
              "      display:flex;\n",
              "      flex-wrap:wrap;\n",
              "      gap: 12px;\n",
              "    }\n",
              "\n",
              "    .colab-df-convert {\n",
              "      background-color: #E8F0FE;\n",
              "      border: none;\n",
              "      border-radius: 50%;\n",
              "      cursor: pointer;\n",
              "      display: none;\n",
              "      fill: #1967D2;\n",
              "      height: 32px;\n",
              "      padding: 0 0 0 0;\n",
              "      width: 32px;\n",
              "    }\n",
              "\n",
              "    .colab-df-convert:hover {\n",
              "      background-color: #E2EBFA;\n",
              "      box-shadow: 0px 1px 2px rgba(60, 64, 67, 0.3), 0px 1px 3px 1px rgba(60, 64, 67, 0.15);\n",
              "      fill: #174EA6;\n",
              "    }\n",
              "\n",
              "    [theme=dark] .colab-df-convert {\n",
              "      background-color: #3B4455;\n",
              "      fill: #D2E3FC;\n",
              "    }\n",
              "\n",
              "    [theme=dark] .colab-df-convert:hover {\n",
              "      background-color: #434B5C;\n",
              "      box-shadow: 0px 1px 3px 1px rgba(0, 0, 0, 0.15);\n",
              "      filter: drop-shadow(0px 1px 2px rgba(0, 0, 0, 0.3));\n",
              "      fill: #FFFFFF;\n",
              "    }\n",
              "  </style>\n",
              "\n",
              "      <script>\n",
              "        const buttonEl =\n",
              "          document.querySelector('#df-837a8f70-0054-498d-bb7c-19a701a6b575 button.colab-df-convert');\n",
              "        buttonEl.style.display =\n",
              "          google.colab.kernel.accessAllowed ? 'block' : 'none';\n",
              "\n",
              "        async function convertToInteractive(key) {\n",
              "          const element = document.querySelector('#df-837a8f70-0054-498d-bb7c-19a701a6b575');\n",
              "          const dataTable =\n",
              "            await google.colab.kernel.invokeFunction('convertToInteractive',\n",
              "                                                     [key], {});\n",
              "          if (!dataTable) return;\n",
              "\n",
              "          const docLinkHtml = 'Like what you see? Visit the ' +\n",
              "            '<a target=\"_blank\" href=https://colab.research.google.com/notebooks/data_table.ipynb>data table notebook</a>'\n",
              "            + ' to learn more about interactive tables.';\n",
              "          element.innerHTML = '';\n",
              "          dataTable['output_type'] = 'display_data';\n",
              "          await google.colab.output.renderOutput(dataTable, element);\n",
              "          const docLink = document.createElement('div');\n",
              "          docLink.innerHTML = docLinkHtml;\n",
              "          element.appendChild(docLink);\n",
              "        }\n",
              "      </script>\n",
              "    </div>\n",
              "  </div>\n",
              "  "
            ],
            "text/plain": [
              "                                           paragraph  label\n",
              "0  The ones in need of constant medical care are ...      0\n",
              "1  NBC and Spanish-language Univision both declin...      0\n",
              "2  A second T-Home project is being launched in t...      0\n",
              "3  Camfed would like to see this trend reversed ....      1\n",
              "4  Kagunga village was reported to lack necessary...      0"
            ]
          },
          "metadata": {},
          "execution_count": 25
        }
      ],
      "source": [
        "df_CNN.head()"
      ]
    },
    {
      "cell_type": "code",
      "execution_count": null,
      "metadata": {
        "id": "CLvgW5bquMn6"
      },
      "outputs": [],
      "source": [
        "def preprocess_text(sen):\n",
        "    # eliminate html tags (if any)\n",
        "    sentence = remove_tags(sen)\n",
        "\n",
        "    # eliminate numbers & punctuation\n",
        "    sentence = re.sub('[^a-zA-Z]', ' ', sentence)\n",
        "\n",
        "    # eliminate single characters\n",
        "    sentence = re.sub(r\"\\s+[a-zA-Z]\\s+\", ' ', sentence)\n",
        "\n",
        "    # eliminate multiple spaces\n",
        "    sentence = re.sub(r'\\s+', ' ', sentence)\n",
        "\n",
        "    return sentence"
      ]
    },
    {
      "cell_type": "markdown",
      "metadata": {
        "id": "pKRMThRDQAJE"
      },
      "source": [
        "calculate total number of different words used"
      ]
    },
    {
      "cell_type": "code",
      "execution_count": null,
      "metadata": {
        "id": "UToUc9_ls2B8"
      },
      "outputs": [],
      "source": [
        "data_vocab = df_CNN[\"paragraph\"].map(word_tokenize).values\n",
        "total_vocab = set(word.lower() for tweet in data_vocab for word in tweet)"
      ]
    },
    {
      "cell_type": "code",
      "execution_count": null,
      "metadata": {
        "colab": {
          "base_uri": "https://localhost:8080/"
        },
        "id": "SUaFA3NqEJxH",
        "outputId": "f244f262-daa6-4fb8-fd31-abfd3e8b22c7"
      },
      "outputs": [
        {
          "data": {
            "text/plain": [
              "32959"
            ]
          },
          "execution_count": 34,
          "metadata": {},
          "output_type": "execute_result"
        }
      ],
      "source": [
        "len(total_vocab)"
      ]
    },
    {
      "cell_type": "markdown",
      "metadata": {
        "id": "y7u7LbJEP9A1"
      },
      "source": [
        "Remove any symbols"
      ]
    },
    {
      "cell_type": "code",
      "execution_count": null,
      "metadata": {
        "id": "kzdhhCUktBLj"
      },
      "outputs": [],
      "source": [
        "TAG_RE = re.compile(r'<[^>]+>')\n",
        "\n",
        "def remove_tags(text):\n",
        "    return TAG_RE.sub('', text)"
      ]
    },
    {
      "cell_type": "code",
      "execution_count": null,
      "metadata": {
        "id": "GOUWYMl7s1yr"
      },
      "outputs": [],
      "source": [
        "pars = []\n",
        "sentences = list(df_CNN['paragraph'])\n",
        "for sen in sentences:\n",
        "    pars.append(preprocess_text(sen))"
      ]
    },
    {
      "cell_type": "code",
      "execution_count": null,
      "metadata": {
        "id": "rHjJHlaRtLnN"
      },
      "outputs": [],
      "source": [
        "y_CNN=df_CNN[\"label\"]"
      ]
    },
    {
      "cell_type": "code",
      "execution_count": null,
      "metadata": {
        "id": "tTw46QdFxf_f"
      },
      "outputs": [],
      "source": [
        ""
      ]
    },
    {
      "cell_type": "markdown",
      "metadata": {
        "id": "r64PPV9ru03T"
      },
      "source": [
        "# Creating a BERT Tokenizer\n"
      ]
    },
    {
      "cell_type": "code",
      "execution_count": null,
      "metadata": {
        "id": "Ng3YtawHtLem"
      },
      "outputs": [],
      "source": [
        "BertTokenizer = bert.bert_tokenization.FullTokenizer\n",
        "bert_layer = hub.KerasLayer(\"https://tfhub.dev/tensorflow/bert_en_uncased_L-12_H-768_A-12/1\",\n",
        "                            trainable=False)\n",
        "vocabulary_file = bert_layer.resolved_object.vocab_file.asset_path.numpy()\n",
        "to_lower_case = bert_layer.resolved_object.do_lower_case.numpy()\n",
        "tokenizer = BertTokenizer(vocabulary_file, to_lower_case)"
      ]
    },
    {
      "cell_type": "code",
      "execution_count": null,
      "metadata": {
        "id": "kz5Jk09_u3OL"
      },
      "outputs": [],
      "source": [
        "def tokenize_pars(texts):\n",
        "    return tokenizer.convert_tokens_to_ids(tokenizer.tokenize(texts))"
      ]
    },
    {
      "cell_type": "code",
      "execution_count": null,
      "metadata": {
        "id": "bE72dP_rwzMa"
      },
      "outputs": [],
      "source": [
        "tokenized_pars = [tokenize_pars(text) for text in pars]\n"
      ]
    },
    {
      "cell_type": "markdown",
      "metadata": {
        "id": "EFEb-vfq2UyI"
      },
      "source": [
        "### preparing data for training/testing"
      ]
    },
    {
      "cell_type": "markdown",
      "metadata": {
        "id": "iamoiMovSlK7"
      },
      "source": [
        "When training the input sentences must be equi-length. Need to make all of the sentences as long as the longest sentence and introduce padding to any shorter sentences"
      ]
    },
    {
      "cell_type": "code",
      "execution_count": null,
      "metadata": {
        "id": "XsgP9tGSx0Si"
      },
      "outputs": [],
      "source": [
        "pars_and_length = [[par, y_CNN[i], len(par)]\n",
        "                 for i, par in enumerate(tokenized_pars)]"
      ]
    },
    {
      "cell_type": "code",
      "execution_count": null,
      "metadata": {
        "id": "eLq5hyl9uAC6"
      },
      "outputs": [],
      "source": [
        "y2=np.array(y_CNN)"
      ]
    },
    {
      "cell_type": "code",
      "execution_count": null,
      "metadata": {
        "id": "zCjQitleyuhy"
      },
      "outputs": [],
      "source": [
        "random.shuffle(pars_and_length)"
      ]
    },
    {
      "cell_type": "code",
      "execution_count": null,
      "metadata": {
        "id": "BmZH6M-Ju3J0"
      },
      "outputs": [],
      "source": [
        "pars_and_length.sort(key=lambda x: x[2])"
      ]
    },
    {
      "cell_type": "markdown",
      "metadata": {
        "id": "a9iuvcfPTiTH"
      },
      "source": [
        "remove length attribute"
      ]
    },
    {
      "cell_type": "code",
      "execution_count": null,
      "metadata": {
        "id": "qqoop4P-2t63"
      },
      "outputs": [],
      "source": [
        "sorted_pars_labels = [(par_lab[0], par_lab[1]) for par_lab in pars_and_length]"
      ]
    },
    {
      "cell_type": "markdown",
      "metadata": {
        "id": "kC5W_CeN29QJ"
      },
      "source": [
        "Once the reviews are sorted we will convert thed dataset so that it can be used to train TensorFlow 2.0 models. Run the following code to convert the sorted dataset into a TensorFlow 2.0-compliant input dataset shape.\n"
      ]
    },
    {
      "cell_type": "code",
      "execution_count": null,
      "metadata": {
        "id": "h6N8nyLC2t1o"
      },
      "outputs": [],
      "source": [
        "processed_DS = tf.data.Dataset.from_generator(lambda: sorted_pars_labels, output_types=(tf.int32, tf.int32))"
      ]
    },
    {
      "cell_type": "code",
      "execution_count": null,
      "metadata": {
        "id": "RD2tbGyT2tsp"
      },
      "outputs": [],
      "source": [
        "BATCH_SIZE = 32\n",
        "batched_DS = processed_DS.padded_batch(BATCH_SIZE, padded_shapes=((None, ), ()))"
      ]
    },
    {
      "cell_type": "code",
      "execution_count": null,
      "metadata": {
        "id": "7M6pRFFl3E6j",
        "colab": {
          "base_uri": "https://localhost:8080/"
        },
        "outputId": "0c46140b-b4fd-4806-ac7e-829c23df5abe"
      },
      "outputs": [
        {
          "output_type": "execute_result",
          "data": {
            "text/plain": [
              "(<tf.Tensor: shape=(32, 5), dtype=int32, numpy=\n",
              " array([[    0,     0,     0,     0,     0],\n",
              "        [ 8711,     0,     0,     0,     0],\n",
              "        [ 3110, 20625,     0,     0,     0],\n",
              "        [ 7074,  8556,  8711,     0,     0],\n",
              "        [ 9042, 13141,  2336,     0,     0],\n",
              "        [ 1996, 10275, 11560,     0,     0],\n",
              "        [ 2040,  2003, 13141,     0,     0],\n",
              "        [ 3492,  2172, 20625,     0,     0],\n",
              "        [ 3319, 13141,  2375,     0,     0],\n",
              "        [ 3554,  2058,  2273,  2308,     0],\n",
              "        [ 2885,  5391, 16836, 19549,     0],\n",
              "        [ 2028,  2111,  2035,  7489,     0],\n",
              "        [ 8738,  2005,  2308,  2058,     0],\n",
              "        [ 2454,  2000,  1996,  9776,     0],\n",
              "        [ 2009,  2074,  3849, 20625,     0],\n",
              "        [16836, 19549,  2125,  4977,     0],\n",
              "        [ 6951,  7126,  5700,  8711,     0],\n",
              "        [ 3579,  2006,  1996, 11573,     0],\n",
              "        [ 8131,  2008,  2028,  5683, 20625],\n",
              "        [20148,  3727,  2695,  2386, 11573],\n",
              "        [ 3082, 15811, 17552,  2945, 11573],\n",
              "        [ 3361,  5375,  2000,  3532,  2945],\n",
              "        [ 2844,  7266,  2681,  2111, 11573],\n",
              "        [ 2308,  2036, 15504,  2009,  2758],\n",
              "        [25040, 11573,  4279, 16088,  6265],\n",
              "        [ 7753,  3532,  6875,  1998, 11573],\n",
              "        [ 3577, 26001, 16836,  1999,  7095],\n",
              "        [ 1049,  9776,  2025,  4039, 22953],\n",
              "        [ 2844,  2707,  2005,  2308,  3873],\n",
              "        [23564, 13344,  2945,  2145, 11573],\n",
              "        [ 2037, 13141,  3570,  3464, 15704],\n",
              "        [16169,  2000,  2495,  2003, 20625]], dtype=int32)>,\n",
              " <tf.Tensor: shape=(32,), dtype=int32, numpy=\n",
              " array([0, 0, 0, 0, 0, 0, 0, 0, 0, 0, 0, 0, 0, 0, 0, 0, 0, 0, 0, 0, 0, 0,\n",
              "        0, 0, 1, 0, 0, 0, 0, 0, 0, 0], dtype=int32)>)"
            ]
          },
          "metadata": {},
          "execution_count": 43
        }
      ],
      "source": [
        "next(iter(batched_DS))"
      ]
    },
    {
      "cell_type": "markdown",
      "metadata": {
        "id": "JCl8S0-x3VHg"
      },
      "source": [
        "#### seperate training and testing data - bit of a mad way to do it lol"
      ]
    },
    {
      "cell_type": "code",
      "execution_count": null,
      "metadata": {
        "id": "PvY_eyqy3NmB"
      },
      "outputs": [],
      "source": [
        "TOTAL_BATCHES = math.ceil(len(sorted_pars_labels) / BATCH_SIZE)\n",
        "TEST_BATCHES = TOTAL_BATCHES // 10\n",
        "batched_DS.shuffle(TOTAL_BATCHES)\n",
        "test_data = batched_DS.take(TEST_BATCHES)\n",
        "train_data = batched_DS.skip(TEST_BATCHES)\n"
      ]
    },
    {
      "cell_type": "markdown",
      "metadata": {
        "id": "6uSESMab3qmu"
      },
      "source": [
        "### creating model "
      ]
    },
    {
      "cell_type": "code",
      "execution_count": null,
      "metadata": {
        "id": "je8ztsRV3Nho"
      },
      "outputs": [],
      "source": [
        "class TEXT_MODEL(tf.keras.Model):\n",
        "    \n",
        "    def __init__(self,\n",
        "                 vocabulary_size,\n",
        "                 embedding_dimensions=128,\n",
        "                 cnn_filters=50,\n",
        "                 dnn_units=512,\n",
        "                 model_output_classes=2,\n",
        "                 dropout_rate=0.1,\n",
        "                 training=False,\n",
        "                 name=\"text_model\"):\n",
        "        super(TEXT_MODEL, self).__init__(name=name)\n",
        "        \n",
        "        self.embedding = layers.Embedding(vocabulary_size,\n",
        "                                          embedding_dimensions)\n",
        "        self.cnn_layer1 = layers.Conv1D(filters=cnn_filters,\n",
        "                                        kernel_size=2,\n",
        "                                        padding=\"valid\",\n",
        "                                        activation=\"relu\")\n",
        "        self.cnn_layer2 = layers.Conv1D(filters=cnn_filters,\n",
        "                                        kernel_size=3,\n",
        "                                        padding=\"valid\",\n",
        "                                        activation=\"relu\")\n",
        "        self.cnn_layer3 = layers.Conv1D(filters=cnn_filters,\n",
        "                                        kernel_size=4,\n",
        "                                        padding=\"valid\",\n",
        "                                        activation=\"relu\")\n",
        "        self.pool = layers.GlobalMaxPool1D()\n",
        "        \n",
        "        self.dense_1 = layers.Dense(units=dnn_units, activation=\"relu\")\n",
        "        self.dropout = layers.Dropout(rate=dropout_rate)\n",
        "        if model_output_classes == 2:\n",
        "            self.last_dense = layers.Dense(units=1,\n",
        "                                           activation=\"sigmoid\")\n",
        "        else:\n",
        "            self.last_dense = layers.Dense(units=model_output_classes,\n",
        "                                           activation=\"softmax\")\n",
        "    \n",
        "    def call(self, inputs, training):\n",
        "        l = self.embedding(inputs)\n",
        "        l_1 = self.cnn_layer1(l) \n",
        "        l_1 = self.pool(l_1) \n",
        "        l_2 = self.cnn_layer2(l) \n",
        "        l_2 = self.pool(l_2)\n",
        "        l_3 = self.cnn_layer3(l)\n",
        "        l_3 = self.pool(l_3) \n",
        "        \n",
        "        concatenated = tf.concat([l_1, l_2, l_3], axis=-1) # (batch_size, 3 * cnn_filters)\n",
        "        concatenated = self.dense_1(concatenated)\n",
        "        concatenated = self.dropout(concatenated, training)\n",
        "        model_output = self.last_dense(concatenated)\n",
        "        \n",
        "        return model_output"
      ]
    },
    {
      "cell_type": "markdown",
      "source": [
        "### CNN F1"
      ],
      "metadata": {
        "id": "nieJ00FnokjW"
      }
    },
    {
      "cell_type": "code",
      "execution_count": null,
      "metadata": {
        "id": "pg4mC_kS3Nc_"
      },
      "outputs": [],
      "source": [
        "VOCAB_LENGTH =len(total_vocab)\n",
        "EMB_DIM = 200\n",
        "CNN_FILTERS = 100\n",
        "DNN_UNITS = 256\n",
        "OUTPUT_CLASSES = 2\n",
        "DROPOUT_RATE = 0.2\n"
      ]
    },
    {
      "cell_type": "code",
      "execution_count": null,
      "metadata": {
        "id": "iekaNTQ74ttk"
      },
      "outputs": [],
      "source": [
        ""
      ]
    },
    {
      "cell_type": "code",
      "execution_count": null,
      "metadata": {
        "id": "hbEPvpgk4Mbw"
      },
      "outputs": [],
      "source": [
        "text_model_CNN = TEXT_MODEL(vocabulary_size=VOCAB_LENGTH,\n",
        "                        embedding_dimensions=EMB_DIM,\n",
        "                        cnn_filters=CNN_FILTERS,\n",
        "                        dnn_units=DNN_UNITS,\n",
        "                        model_output_classes=OUTPUT_CLASSES,\n",
        "                        dropout_rate=DROPOUT_RATE)"
      ]
    },
    {
      "cell_type": "code",
      "execution_count": null,
      "metadata": {
        "id": "Xa7NbILf43B5"
      },
      "outputs": [],
      "source": [
        "if OUTPUT_CLASSES == 2:\n",
        "    text_model_CNN.compile(loss=\"binary_crossentropy\",\n",
        "                       optimizer=\"adam\",\n",
        "                       metrics=tfa.metrics.F1Score(num_classes=1))\n",
        "                       #metrics=tf.keras.metrics.Recall())\n",
        "                       #metrics=[\"accuracy\"])\n",
        "else:\n",
        "    text_model_CNN.compile(loss=\"sparse_categorical_crossentropy\",\n",
        "                       optimizer=\"adam\",\n",
        "                       metrics=[\"sparse_categorical_accuracy\"])"
      ]
    },
    {
      "cell_type": "code",
      "source": [
        "NB_EPOCHS_CNN =list(range(1,10))\n",
        "CNN_f1_results=[]\n",
        "eps_list_CNN=[]\n",
        "for epoch in NB_EPOCHS_CNN:\n",
        "    text_model_CNN.fit(train_data, epochs=epoch)\n",
        "    eps_list_CNN.append(epoch)\n",
        "    CNN_f1_results.append(text_model_CNN.evaluate(test_data)[1][0])"
      ],
      "metadata": {
        "colab": {
          "base_uri": "https://localhost:8080/"
        },
        "id": "wX-hd-Odk5Ds",
        "outputId": "1c2b5579-185e-46b3-c363-5a51c3957cdb"
      },
      "execution_count": null,
      "outputs": [
        {
          "output_type": "stream",
          "name": "stdout",
          "text": [
            "300/300 [==============================] - 47s 155ms/step - loss: 1.7787e-04 - f1_score: 0.5209\n",
            "33/33 [==============================] - 1s 14ms/step - loss: 1.7438 - f1_score: 0.2045\n",
            "Epoch 1/2\n",
            "300/300 [==============================] - 40s 133ms/step - loss: 1.4997e-04 - f1_score: 0.5241\n",
            "Epoch 2/2\n",
            "300/300 [==============================] - 40s 134ms/step - loss: 1.7237e-04 - f1_score: 0.5262\n",
            "33/33 [==============================] - 1s 14ms/step - loss: 1.7421 - f1_score: 0.2038\n",
            "Epoch 1/3\n",
            "300/300 [==============================] - 45s 148ms/step - loss: 1.3882e-04 - f1_score: 0.5232\n",
            "Epoch 2/3\n",
            "300/300 [==============================] - 41s 138ms/step - loss: 1.8094e-04 - f1_score: 0.5200\n",
            "Epoch 3/3\n",
            "300/300 [==============================] - 40s 133ms/step - loss: 1.6056e-04 - f1_score: 0.5271\n",
            "33/33 [==============================] - 1s 15ms/step - loss: 1.7546 - f1_score: 0.2058\n",
            "Epoch 1/4\n",
            "300/300 [==============================] - 40s 133ms/step - loss: 1.4636e-04 - f1_score: 0.5283\n",
            "Epoch 2/4\n",
            "300/300 [==============================] - 48s 158ms/step - loss: 1.4318e-04 - f1_score: 0.5058\n",
            "Epoch 3/4\n",
            "300/300 [==============================] - 40s 134ms/step - loss: 1.5138e-04 - f1_score: 0.4561\n",
            "Epoch 4/4\n",
            "300/300 [==============================] - 40s 132ms/step - loss: 1.5542e-04 - f1_score: 0.4571\n",
            "33/33 [==============================] - 1s 14ms/step - loss: 1.7970 - f1_score: 0.2039\n",
            "Epoch 1/5\n",
            "300/300 [==============================] - 40s 133ms/step - loss: 1.4014e-04 - f1_score: 0.4638\n",
            "Epoch 2/5\n",
            "300/300 [==============================] - 40s 134ms/step - loss: 1.2612e-04 - f1_score: 0.4681\n",
            "Epoch 3/5\n",
            "300/300 [==============================] - 41s 135ms/step - loss: 1.8296e-04 - f1_score: 0.4788\n",
            "Epoch 4/5\n",
            "300/300 [==============================] - 41s 136ms/step - loss: 1.8678e-04 - f1_score: 0.4820\n",
            "Epoch 5/5\n",
            "300/300 [==============================] - 41s 135ms/step - loss: 1.4582e-04 - f1_score: 0.4836\n",
            "33/33 [==============================] - 1s 16ms/step - loss: 1.8321 - f1_score: 0.2040\n",
            "Epoch 1/6\n",
            "300/300 [==============================] - 40s 134ms/step - loss: 1.4966e-04 - f1_score: 0.4903\n",
            "Epoch 2/6\n",
            "300/300 [==============================] - 40s 134ms/step - loss: 1.4475e-04 - f1_score: 0.4944\n",
            "Epoch 3/6\n",
            "300/300 [==============================] - 40s 134ms/step - loss: 1.4498e-04 - f1_score: 0.5063\n",
            "Epoch 4/6\n",
            "300/300 [==============================] - 40s 134ms/step - loss: 1.4234e-04 - f1_score: 0.5221\n",
            "Epoch 5/6\n",
            "300/300 [==============================] - 40s 134ms/step - loss: 1.2947e-04 - f1_score: 0.5220\n",
            "Epoch 6/6\n",
            "300/300 [==============================] - 40s 134ms/step - loss: 1.5549e-04 - f1_score: 0.5242\n",
            "33/33 [==============================] - 1s 14ms/step - loss: 1.8876 - f1_score: 0.2059\n",
            "Epoch 1/7\n",
            "300/300 [==============================] - 41s 134ms/step - loss: 1.8045e-04 - f1_score: 0.5396\n",
            "Epoch 2/7\n",
            "300/300 [==============================] - 40s 134ms/step - loss: 1.5291e-04 - f1_score: 0.5230\n",
            "Epoch 3/7\n",
            "300/300 [==============================] - 40s 134ms/step - loss: 1.9887e-04 - f1_score: 0.5289\n",
            "Epoch 4/7\n",
            "300/300 [==============================] - 41s 135ms/step - loss: 1.4846e-04 - f1_score: 0.5412\n",
            "Epoch 5/7\n",
            "300/300 [==============================] - 40s 133ms/step - loss: 1.3631e-04 - f1_score: 0.5414\n",
            "Epoch 6/7\n",
            "300/300 [==============================] - 40s 133ms/step - loss: 1.2248e-04 - f1_score: 0.5440\n",
            "Epoch 7/7\n",
            "300/300 [==============================] - 41s 135ms/step - loss: 1.3267e-04 - f1_score: 0.5372\n",
            "33/33 [==============================] - 1s 15ms/step - loss: 1.5999 - f1_score: 0.2069\n",
            "Epoch 1/8\n",
            "300/300 [==============================] - 41s 136ms/step - loss: 1.4473e-04 - f1_score: 0.5427\n",
            "Epoch 2/8\n",
            "300/300 [==============================] - 41s 137ms/step - loss: 1.8020e-04 - f1_score: 0.5401\n",
            "Epoch 3/8\n",
            "300/300 [==============================] - 42s 141ms/step - loss: 1.5527e-04 - f1_score: 0.5639\n",
            "Epoch 4/8\n",
            "300/300 [==============================] - 41s 137ms/step - loss: 1.3299e-04 - f1_score: 0.5644\n",
            "Epoch 5/8\n",
            "300/300 [==============================] - 40s 133ms/step - loss: 1.4790e-04 - f1_score: 0.5658\n",
            "Epoch 6/8\n",
            "300/300 [==============================] - 40s 132ms/step - loss: 1.4472e-04 - f1_score: 0.5703\n",
            "Epoch 7/8\n",
            "300/300 [==============================] - 40s 132ms/step - loss: 1.4785e-04 - f1_score: 0.5792\n",
            "Epoch 8/8\n",
            "300/300 [==============================] - 40s 134ms/step - loss: 1.6762e-04 - f1_score: 0.5751\n",
            "33/33 [==============================] - 1s 15ms/step - loss: 1.8304 - f1_score: 0.2114\n",
            "Epoch 1/9\n",
            "300/300 [==============================] - 41s 136ms/step - loss: 1.5319e-04 - f1_score: 0.5965\n",
            "Epoch 2/9\n",
            "300/300 [==============================] - 41s 135ms/step - loss: 1.5051e-04 - f1_score: 0.6034\n",
            "Epoch 3/9\n",
            "300/300 [==============================] - 41s 135ms/step - loss: 1.5055e-04 - f1_score: 0.6058\n",
            "Epoch 4/9\n",
            "300/300 [==============================] - 41s 136ms/step - loss: 1.4490e-04 - f1_score: 0.5951\n",
            "Epoch 5/9\n",
            "300/300 [==============================] - 41s 135ms/step - loss: 1.4492e-04 - f1_score: 0.6058\n",
            "Epoch 6/9\n",
            "300/300 [==============================] - 41s 135ms/step - loss: 1.3694e-04 - f1_score: 0.6090\n",
            "Epoch 7/9\n",
            "300/300 [==============================] - 42s 138ms/step - loss: 1.6130e-04 - f1_score: 0.6064\n",
            "Epoch 8/9\n",
            "300/300 [==============================] - 42s 140ms/step - loss: 1.4052e-04 - f1_score: 0.6275\n",
            "Epoch 9/9\n",
            "300/300 [==============================] - 41s 135ms/step - loss: 1.4049e-04 - f1_score: 0.6190\n",
            "33/33 [==============================] - 1s 14ms/step - loss: 1.7987 - f1_score: 0.2151\n"
          ]
        }
      ]
    },
    {
      "cell_type": "code",
      "execution_count": null,
      "metadata": {
        "colab": {
          "base_uri": "https://localhost:8080/"
        },
        "id": "aiEyujLd423e",
        "outputId": "e5ddf7c2-12b2-4893-f112-fc4848ed7247"
      },
      "outputs": [
        {
          "output_type": "stream",
          "name": "stdout",
          "text": [
            "Epoch 1/9\n",
            "300/300 [==============================] - 50s 160ms/step - loss: 1.7323e-04 - f1_score: 0.8393\n",
            "Epoch 2/9\n",
            "300/300 [==============================] - 66s 218ms/step - loss: 1.4309e-04 - f1_score: 0.8382\n",
            "Epoch 3/9\n",
            "300/300 [==============================] - 45s 149ms/step - loss: 1.4657e-04 - f1_score: 0.8495\n",
            "Epoch 4/9\n",
            "300/300 [==============================] - 44s 146ms/step - loss: 1.4691e-04 - f1_score: 0.8584\n",
            "Epoch 5/9\n",
            "300/300 [==============================] - 47s 155ms/step - loss: 1.4592e-04 - f1_score: 0.8468\n",
            "Epoch 6/9\n",
            "300/300 [==============================] - 58s 192ms/step - loss: 1.4650e-04 - f1_score: 0.8563\n",
            "Epoch 7/9\n",
            "300/300 [==============================] - 45s 150ms/step - loss: 1.4897e-04 - f1_score: 0.8821\n",
            "Epoch 8/9\n",
            "300/300 [==============================] - 43s 144ms/step - loss: 1.4439e-04 - f1_score: 0.8899\n",
            "Epoch 9/9\n",
            "300/300 [==============================] - 45s 151ms/step - loss: 1.5148e-04 - f1_score: 0.8903\n"
          ]
        },
        {
          "output_type": "execute_result",
          "data": {
            "text/plain": [
              "<keras.callbacks.History at 0x7febf580e690>"
            ]
          },
          "metadata": {},
          "execution_count": 258
        }
      ],
      "source": [
        "text_model_CNN.fit(train_data, epochs=9)"
      ]
    },
    {
      "cell_type": "code",
      "execution_count": null,
      "metadata": {
        "colab": {
          "base_uri": "https://localhost:8080/"
        },
        "id": "E6BkPsRom3Xs",
        "outputId": "582a74c8-88b8-4c86-e6ee-7195c4d7c43c"
      },
      "outputs": [
        {
          "output_type": "stream",
          "name": "stdout",
          "text": [
            "33/33 [==============================] - 1s 23ms/step - loss: 2.5007 - f1_score: 0.2418\n"
          ]
        }
      ],
      "source": [
        "CNN_f1_final_result=text_model_CNN.evaluate(test_data)[1]"
      ]
    },
    {
      "cell_type": "markdown",
      "metadata": {
        "id": "uWkJCaxf5f7E"
      },
      "source": [
        "now to try the trained model on the testing data"
      ]
    },
    {
      "cell_type": "markdown",
      "metadata": {
        "id": "BKM7Z0yX7y99"
      },
      "source": [
        "### Now get list to store results of each one"
      ]
    },
    {
      "cell_type": "code",
      "execution_count": null,
      "metadata": {
        "id": "56vGUGa_8mRY"
      },
      "outputs": [],
      "source": [
        "Metrics_list=[]\n",
        "Metrics_score=[]\n",
        "\n",
        "F1_list=[]\n",
        "F1_score=[]"
      ]
    },
    {
      "cell_type": "code",
      "execution_count": null,
      "metadata": {
        "id": "V8qAwC4eWMvT"
      },
      "outputs": [],
      "source": [
        "F1_list.append(\"CNN\")\n",
        "F1_score.append(CNN_f1_final_result)\n"
      ]
    },
    {
      "cell_type": "markdown",
      "metadata": {
        "id": "3TQ9amtw9Hda"
      },
      "source": [
        "### Now accuracy"
      ]
    },
    {
      "cell_type": "code",
      "execution_count": null,
      "metadata": {
        "id": "3DqmxxbsWMjF"
      },
      "outputs": [],
      "source": [
        "if OUTPUT_CLASSES == 2:\n",
        "    text_model_CNN.compile(loss=\"binary_crossentropy\",\n",
        "                       optimizer=\"adam\",\n",
        "                       #metrics=tf.keras.metrics.Recall())\n",
        "                       metrics=[\"accuracy\"])\n",
        "else:\n",
        "    text_model_CNN.compile(loss=\"sparse_categorical_crossentropy\",\n",
        "                       optimizer=\"adam\",\n",
        "                       metrics=[\"sparse_categorical_accuracy\",\"recall\",\"RecallAtPrecision\",\"binary_accuracy\"])"
      ]
    },
    {
      "cell_type": "code",
      "execution_count": null,
      "metadata": {
        "colab": {
          "background_save": true
        },
        "id": "XqxBdPLl9Jxd"
      },
      "outputs": [],
      "source": [
        "#text_model_CNN.fit(train_data, epochs=NB_EPOCHS)"
      ]
    },
    {
      "cell_type": "code",
      "source": [
        "NB_EPOCHS_CNN =list(range(1,15))\n",
        "CNN_acc_results=[]\n",
        "CNN_loss_results=[]\n",
        "#eps_list_CNN=[]\n",
        "for epoch in NB_EPOCHS_CNN:\n",
        "    text_model_CNN.fit(train_data, epochs=epoch)\n",
        "    CNN_acc_results.append(text_model_CNN.evaluate(test_data)[1]) #[0])"
      ],
      "metadata": {
        "colab": {
          "base_uri": "https://localhost:8080/"
        },
        "id": "IGeh6tzIKEgy",
        "outputId": "f0ab2b18-4737-4790-8be3-bfd07d68a846"
      },
      "execution_count": null,
      "outputs": [
        {
          "output_type": "stream",
          "name": "stdout",
          "text": [
            "300/300 [==============================] - 44s 139ms/step - loss: 1.4518e-04 - accuracy: 0.9999\n",
            "33/33 [==============================] - 1s 16ms/step - loss: 1.8845 - accuracy: 0.8097\n",
            "Epoch 1/2\n",
            "300/300 [==============================] - 40s 134ms/step - loss: 1.5310e-04 - accuracy: 0.9999\n",
            "Epoch 2/2\n",
            "300/300 [==============================] - 42s 139ms/step - loss: 1.4094e-04 - accuracy: 0.9999\n",
            "33/33 [==============================] - 1s 15ms/step - loss: 1.9368 - accuracy: 0.8097\n",
            "Epoch 1/3\n",
            "300/300 [==============================] - 40s 134ms/step - loss: 1.4783e-04 - accuracy: 0.9998\n",
            "Epoch 2/3\n",
            "300/300 [==============================] - 40s 133ms/step - loss: 1.4650e-04 - accuracy: 0.9999\n",
            "Epoch 3/3\n",
            "300/300 [==============================] - 40s 134ms/step - loss: 1.4659e-04 - accuracy: 0.9999\n",
            "33/33 [==============================] - 1s 15ms/step - loss: 2.0190 - accuracy: 0.8068\n",
            "Epoch 1/4\n",
            "300/300 [==============================] - 40s 134ms/step - loss: 1.2875e-04 - accuracy: 1.0000\n",
            "Epoch 2/4\n",
            "300/300 [==============================] - 40s 133ms/step - loss: 1.3180e-04 - accuracy: 0.9999\n",
            "Epoch 3/4\n",
            "300/300 [==============================] - 41s 135ms/step - loss: 2.4400e-04 - accuracy: 0.9999\n",
            "Epoch 4/4\n",
            "300/300 [==============================] - 40s 134ms/step - loss: 2.3024e-04 - accuracy: 0.9998\n",
            "33/33 [==============================] - 1s 15ms/step - loss: 1.9464 - accuracy: 0.7945\n",
            "Epoch 1/5\n",
            "300/300 [==============================] - 41s 135ms/step - loss: 1.5050e-04 - accuracy: 0.9999\n",
            "Epoch 2/5\n",
            "300/300 [==============================] - 40s 134ms/step - loss: 1.1671e-04 - accuracy: 0.9999\n",
            "Epoch 3/5\n",
            "300/300 [==============================] - 40s 134ms/step - loss: 1.6089e-04 - accuracy: 0.9998\n",
            "Epoch 4/5\n",
            "300/300 [==============================] - 41s 135ms/step - loss: 1.2259e-04 - accuracy: 1.0000\n",
            "Epoch 5/5\n",
            "300/300 [==============================] - 41s 135ms/step - loss: 2.6779e-04 - accuracy: 0.9998\n",
            "33/33 [==============================] - 1s 15ms/step - loss: 2.1209 - accuracy: 0.8097\n",
            "Epoch 1/6\n",
            "300/300 [==============================] - 40s 134ms/step - loss: 1.5136e-04 - accuracy: 0.9998\n",
            "Epoch 2/6\n",
            "300/300 [==============================] - 40s 132ms/step - loss: 1.5113e-04 - accuracy: 0.9999\n",
            "Epoch 3/6\n",
            "300/300 [==============================] - 41s 136ms/step - loss: 1.5999e-04 - accuracy: 0.9998\n",
            "Epoch 4/6\n",
            "300/300 [==============================] - 41s 135ms/step - loss: 1.4028e-04 - accuracy: 0.9999\n",
            "Epoch 5/6\n",
            "300/300 [==============================] - 41s 136ms/step - loss: 1.4795e-04 - accuracy: 0.9999\n",
            "Epoch 6/6\n",
            "300/300 [==============================] - 40s 134ms/step - loss: 1.4570e-04 - accuracy: 0.9999\n",
            "33/33 [==============================] - 1s 15ms/step - loss: 2.1866 - accuracy: 0.8097\n",
            "Epoch 1/7\n",
            "300/300 [==============================] - 40s 134ms/step - loss: 1.5339e-04 - accuracy: 0.9998\n",
            "Epoch 2/7\n",
            "300/300 [==============================] - 41s 136ms/step - loss: 1.4125e-04 - accuracy: 0.9999\n",
            "Epoch 3/7\n",
            "300/300 [==============================] - 41s 136ms/step - loss: 1.4854e-04 - accuracy: 0.9999\n",
            "Epoch 4/7\n",
            "300/300 [==============================] - 42s 138ms/step - loss: 1.4527e-04 - accuracy: 0.9999\n",
            "Epoch 5/7\n",
            "300/300 [==============================] - 41s 136ms/step - loss: 1.4472e-04 - accuracy: 0.9999\n",
            "Epoch 6/7\n",
            "300/300 [==============================] - 41s 135ms/step - loss: 1.4471e-04 - accuracy: 0.9999\n",
            "Epoch 7/7\n",
            "300/300 [==============================] - 40s 134ms/step - loss: 1.4471e-04 - accuracy: 0.9999\n",
            "33/33 [==============================] - 0s 14ms/step - loss: 2.1797 - accuracy: 0.8116\n",
            "Epoch 1/8\n",
            "300/300 [==============================] - 41s 135ms/step - loss: 1.4820e-04 - accuracy: 0.9999\n",
            "Epoch 2/8\n",
            "300/300 [==============================] - 41s 135ms/step - loss: 1.4021e-04 - accuracy: 0.9999\n",
            "Epoch 3/8\n",
            "300/300 [==============================] - 41s 136ms/step - loss: 1.4711e-04 - accuracy: 0.9999\n",
            "Epoch 4/8\n",
            "300/300 [==============================] - 41s 135ms/step - loss: 1.7768e-04 - accuracy: 0.9999\n",
            "Epoch 5/8\n",
            "300/300 [==============================] - 41s 136ms/step - loss: 1.5014e-04 - accuracy: 0.9999\n",
            "Epoch 6/8\n",
            "300/300 [==============================] - 41s 135ms/step - loss: 1.4630e-04 - accuracy: 0.9999\n",
            "Epoch 7/8\n",
            "300/300 [==============================] - 44s 147ms/step - loss: 1.4936e-04 - accuracy: 0.9999\n",
            "Epoch 8/8\n",
            "300/300 [==============================] - 41s 134ms/step - loss: 1.4234e-04 - accuracy: 0.9999\n",
            "33/33 [==============================] - 1s 15ms/step - loss: 2.2115 - accuracy: 0.8097\n",
            "Epoch 1/9\n",
            "300/300 [==============================] - 41s 136ms/step - loss: 1.2089e-04 - accuracy: 1.0000\n",
            "Epoch 2/9\n",
            "300/300 [==============================] - 41s 136ms/step - loss: 1.6640e-04 - accuracy: 0.9999\n",
            "Epoch 3/9\n",
            "300/300 [==============================] - 41s 138ms/step - loss: 2.4188e-04 - accuracy: 0.9998\n",
            "Epoch 4/9\n",
            "300/300 [==============================] - 41s 135ms/step - loss: 1.5441e-04 - accuracy: 0.9999\n",
            "Epoch 5/9\n",
            "300/300 [==============================] - 41s 136ms/step - loss: 1.4744e-04 - accuracy: 0.9999\n",
            "Epoch 6/9\n",
            "300/300 [==============================] - 41s 135ms/step - loss: 1.4969e-04 - accuracy: 0.9998\n",
            "Epoch 7/9\n",
            "300/300 [==============================] - 41s 135ms/step - loss: 3.2897e-04 - accuracy: 0.9999\n",
            "Epoch 8/9\n",
            "300/300 [==============================] - 40s 134ms/step - loss: 1.3261e-04 - accuracy: 0.9999\n",
            "Epoch 9/9\n",
            "300/300 [==============================] - 41s 137ms/step - loss: 1.1636e-04 - accuracy: 1.0000\n",
            "33/33 [==============================] - 1s 16ms/step - loss: 2.1763 - accuracy: 0.8125\n",
            "Epoch 1/10\n",
            "300/300 [==============================] - 41s 137ms/step - loss: 1.8529e-04 - accuracy: 0.9998\n",
            "Epoch 2/10\n",
            "300/300 [==============================] - 42s 140ms/step - loss: 1.3468e-04 - accuracy: 1.0000\n",
            "Epoch 3/10\n",
            "300/300 [==============================] - 42s 139ms/step - loss: 1.3902e-04 - accuracy: 0.9999\n",
            "Epoch 4/10\n",
            "300/300 [==============================] - 42s 140ms/step - loss: 1.4437e-04 - accuracy: 0.9999\n",
            "Epoch 5/10\n",
            "300/300 [==============================] - 41s 137ms/step - loss: 1.2415e-04 - accuracy: 1.0000\n",
            "Epoch 6/10\n",
            "300/300 [==============================] - 41s 136ms/step - loss: 1.2817e-04 - accuracy: 1.0000\n",
            "Epoch 7/10\n",
            "300/300 [==============================] - 42s 138ms/step - loss: 1.3884e-04 - accuracy: 0.9999\n",
            "Epoch 8/10\n",
            "300/300 [==============================] - 41s 137ms/step - loss: 1.0799e-04 - accuracy: 1.0000\n",
            "Epoch 9/10\n",
            "300/300 [==============================] - 42s 138ms/step - loss: 1.5512e-04 - accuracy: 0.9999\n",
            "Epoch 10/10\n",
            "300/300 [==============================] - 42s 140ms/step - loss: 1.7255e-04 - accuracy: 0.9999\n",
            "33/33 [==============================] - 1s 15ms/step - loss: 2.2617 - accuracy: 0.8021\n",
            "Epoch 1/11\n",
            "300/300 [==============================] - 43s 142ms/step - loss: 1.2196e-04 - accuracy: 0.9999\n",
            "Epoch 2/11\n",
            "300/300 [==============================] - 43s 142ms/step - loss: 1.1346e-04 - accuracy: 0.9999\n",
            "Epoch 3/11\n",
            "300/300 [==============================] - 43s 144ms/step - loss: 1.4417e-04 - accuracy: 0.9999\n",
            "Epoch 4/11\n",
            "300/300 [==============================] - 43s 142ms/step - loss: 1.1510e-04 - accuracy: 0.9999\n",
            "Epoch 5/11\n",
            "300/300 [==============================] - 43s 142ms/step - loss: 2.1910e-04 - accuracy: 0.9999\n",
            "Epoch 6/11\n",
            "300/300 [==============================] - 43s 142ms/step - loss: 1.6413e-04 - accuracy: 0.9999\n",
            "Epoch 7/11\n",
            "300/300 [==============================] - 42s 140ms/step - loss: 1.5619e-04 - accuracy: 0.9999\n",
            "Epoch 8/11\n",
            "300/300 [==============================] - 42s 138ms/step - loss: 1.5491e-04 - accuracy: 0.9999\n",
            "Epoch 9/11\n",
            "300/300 [==============================] - 43s 142ms/step - loss: 1.4462e-04 - accuracy: 0.9999\n",
            "Epoch 10/11\n",
            "300/300 [==============================] - 42s 139ms/step - loss: 1.4586e-04 - accuracy: 0.9999\n",
            "Epoch 11/11\n",
            "300/300 [==============================] - 42s 139ms/step - loss: 1.4450e-04 - accuracy: 0.9999\n",
            "33/33 [==============================] - 1s 16ms/step - loss: 2.2252 - accuracy: 0.8021\n",
            "Epoch 1/12\n",
            "300/300 [==============================] - 42s 138ms/step - loss: 1.6352e-04 - accuracy: 0.9998\n",
            "Epoch 2/12\n",
            "300/300 [==============================] - 42s 138ms/step - loss: 3.3091e-04 - accuracy: 0.9999\n",
            "Epoch 3/12\n",
            "300/300 [==============================] - 42s 140ms/step - loss: 1.5943e-04 - accuracy: 0.9999\n",
            "Epoch 4/12\n",
            "300/300 [==============================] - 43s 142ms/step - loss: 1.6459e-04 - accuracy: 0.9999\n",
            "Epoch 5/12\n",
            "300/300 [==============================] - 42s 141ms/step - loss: 1.2848e-04 - accuracy: 1.0000\n",
            "Epoch 6/12\n",
            "300/300 [==============================] - 43s 142ms/step - loss: 0.0061 - accuracy: 0.9989\n",
            "Epoch 7/12\n",
            "300/300 [==============================] - 42s 139ms/step - loss: 0.0016 - accuracy: 0.9993\n",
            "Epoch 8/12\n",
            "300/300 [==============================] - 43s 143ms/step - loss: 2.9933e-04 - accuracy: 0.9998\n",
            "Epoch 9/12\n",
            "300/300 [==============================] - 44s 146ms/step - loss: 4.3764e-04 - accuracy: 0.9998\n",
            "Epoch 10/12\n",
            "300/300 [==============================] - 44s 145ms/step - loss: 1.7978e-04 - accuracy: 0.9999\n",
            "Epoch 11/12\n",
            "300/300 [==============================] - 43s 144ms/step - loss: 1.2204e-04 - accuracy: 0.9999\n",
            "Epoch 12/12\n",
            "300/300 [==============================] - 43s 141ms/step - loss: 1.2908e-04 - accuracy: 0.9999\n",
            "33/33 [==============================] - 1s 16ms/step - loss: 2.2745 - accuracy: 0.8087\n",
            "Epoch 1/13\n",
            "300/300 [==============================] - 43s 141ms/step - loss: 1.7760e-04 - accuracy: 0.9999\n",
            "Epoch 2/13\n",
            "300/300 [==============================] - 43s 142ms/step - loss: 1.5340e-04 - accuracy: 0.9999\n",
            "Epoch 3/13\n",
            "300/300 [==============================] - 42s 140ms/step - loss: 1.5958e-04 - accuracy: 0.9999\n",
            "Epoch 4/13\n",
            "300/300 [==============================] - 42s 141ms/step - loss: 1.5193e-04 - accuracy: 0.9998\n",
            "Epoch 5/13\n",
            "300/300 [==============================] - 41s 137ms/step - loss: 1.3587e-04 - accuracy: 1.0000\n",
            "Epoch 6/13\n",
            "300/300 [==============================] - 42s 139ms/step - loss: 1.1662e-04 - accuracy: 1.0000\n",
            "Epoch 7/13\n",
            "300/300 [==============================] - 41s 137ms/step - loss: 1.3379e-04 - accuracy: 1.0000\n",
            "Epoch 8/13\n",
            "300/300 [==============================] - 43s 141ms/step - loss: 1.5339e-04 - accuracy: 0.9999\n",
            "Epoch 9/13\n",
            "300/300 [==============================] - 43s 142ms/step - loss: 2.0598e-04 - accuracy: 0.9999\n",
            "Epoch 10/13\n",
            "300/300 [==============================] - 43s 143ms/step - loss: 1.8822e-04 - accuracy: 0.9999\n",
            "Epoch 11/13\n",
            "300/300 [==============================] - 44s 147ms/step - loss: 1.1396e-04 - accuracy: 1.0000\n",
            "Epoch 12/13\n",
            "300/300 [==============================] - 44s 147ms/step - loss: 1.5793e-04 - accuracy: 0.9999\n",
            "Epoch 13/13\n",
            "300/300 [==============================] - 44s 145ms/step - loss: 1.4824e-04 - accuracy: 0.9999\n",
            "33/33 [==============================] - 1s 18ms/step - loss: 2.3698 - accuracy: 0.8030\n",
            "Epoch 1/14\n",
            "300/300 [==============================] - 43s 142ms/step - loss: 2.0724e-04 - accuracy: 0.9999\n",
            "Epoch 2/14\n",
            "300/300 [==============================] - 43s 143ms/step - loss: 1.2975e-04 - accuracy: 0.9999\n",
            "Epoch 3/14\n",
            "300/300 [==============================] - 45s 148ms/step - loss: 9.6565e-05 - accuracy: 1.0000\n",
            "Epoch 4/14\n",
            "300/300 [==============================] - 44s 146ms/step - loss: 1.1746e-04 - accuracy: 1.0000\n",
            "Epoch 5/14\n",
            "300/300 [==============================] - 49s 161ms/step - loss: 2.3495e-04 - accuracy: 0.9998\n",
            "Epoch 6/14\n",
            "300/300 [==============================] - 43s 142ms/step - loss: 1.8053e-04 - accuracy: 0.9999\n",
            "Epoch 7/14\n",
            "300/300 [==============================] - 43s 141ms/step - loss: 1.6324e-04 - accuracy: 0.9999\n",
            "Epoch 8/14\n",
            "300/300 [==============================] - 42s 138ms/step - loss: 1.3115e-04 - accuracy: 0.9999\n",
            "Epoch 9/14\n",
            "300/300 [==============================] - 42s 138ms/step - loss: 1.6878e-04 - accuracy: 0.9998\n",
            "Epoch 10/14\n",
            "300/300 [==============================] - 42s 140ms/step - loss: 1.5377e-04 - accuracy: 0.9999\n",
            "Epoch 11/14\n",
            "300/300 [==============================] - 44s 147ms/step - loss: 1.4089e-04 - accuracy: 0.9999\n",
            "Epoch 12/14\n",
            "300/300 [==============================] - 42s 139ms/step - loss: 1.4068e-04 - accuracy: 0.9999\n",
            "Epoch 13/14\n",
            "300/300 [==============================] - 42s 140ms/step - loss: 1.5329e-04 - accuracy: 0.9999\n",
            "Epoch 14/14\n",
            "300/300 [==============================] - 42s 141ms/step - loss: 1.3935e-04 - accuracy: 0.9999\n",
            "33/33 [==============================] - 1s 18ms/step - loss: 2.3345 - accuracy: 0.8049\n"
          ]
        }
      ]
    },
    {
      "cell_type": "code",
      "source": [
        "text_model_CNN.fit(train_data, epochs=9)"
      ],
      "metadata": {
        "colab": {
          "base_uri": "https://localhost:8080/"
        },
        "id": "XkEbUNezSd-T",
        "outputId": "853440fa-e66f-409e-956c-3ad70eac548d"
      },
      "execution_count": null,
      "outputs": [
        {
          "output_type": "stream",
          "name": "stdout",
          "text": [
            "Epoch 1/9\n",
            "300/300 [==============================] - 45s 151ms/step - loss: 1.3843e-04 - accuracy: 0.9999\n",
            "Epoch 2/9\n",
            "300/300 [==============================] - 45s 149ms/step - loss: 1.2517e-04 - accuracy: 0.9999\n",
            "Epoch 3/9\n",
            "300/300 [==============================] - 47s 155ms/step - loss: 1.5125e-04 - accuracy: 0.9999\n",
            "Epoch 4/9\n",
            "300/300 [==============================] - 48s 159ms/step - loss: 1.4491e-04 - accuracy: 0.9999\n",
            "Epoch 5/9\n",
            "300/300 [==============================] - 48s 159ms/step - loss: 1.4117e-04 - accuracy: 0.9999\n",
            "Epoch 6/9\n",
            "300/300 [==============================] - 48s 158ms/step - loss: 1.9989e-04 - accuracy: 0.9998\n",
            "Epoch 7/9\n",
            "300/300 [==============================] - 45s 150ms/step - loss: 1.2752e-04 - accuracy: 1.0000\n",
            "Epoch 8/9\n",
            "300/300 [==============================] - 44s 146ms/step - loss: 1.5914e-04 - accuracy: 0.9999\n",
            "Epoch 9/9\n",
            "300/300 [==============================] - 47s 155ms/step - loss: 1.8108e-04 - accuracy: 0.9999\n"
          ]
        },
        {
          "output_type": "execute_result",
          "data": {
            "text/plain": [
              "<keras.callbacks.History at 0x7febf9a6d5d0>"
            ]
          },
          "metadata": {},
          "execution_count": 249
        }
      ]
    },
    {
      "cell_type": "code",
      "source": [
        "CNN_final_acc=text_model_CNN.evaluate(test_data)[1]"
      ],
      "metadata": {
        "colab": {
          "base_uri": "https://localhost:8080/"
        },
        "id": "Age12zGpZ39a",
        "outputId": "0ef0775d-40ca-4514-b74a-08121b705852"
      },
      "execution_count": null,
      "outputs": [
        {
          "output_type": "stream",
          "name": "stdout",
          "text": [
            "33/33 [==============================] - 1s 23ms/step - loss: 2.4357 - accuracy: 0.8040\n"
          ]
        }
      ]
    },
    {
      "cell_type": "code",
      "execution_count": null,
      "metadata": {
        "id": "emv1HM1F9ZDV"
      },
      "outputs": [],
      "source": [
        "Metrics_list.append(\"CNN_Accuracy\")\n",
        "Metrics_score.append(CNN_final_acc)"
      ]
    },
    {
      "cell_type": "markdown",
      "metadata": {
        "id": "WTNtqONoFzZW"
      },
      "source": [
        "# SVM "
      ]
    },
    {
      "cell_type": "code",
      "execution_count": null,
      "metadata": {
        "id": "5lswLI9uGbnD"
      },
      "outputs": [],
      "source": [
        "df_SVM=data"
      ]
    },
    {
      "cell_type": "code",
      "execution_count": null,
      "metadata": {
        "colab": {
          "base_uri": "https://localhost:8080/",
          "height": 206
        },
        "id": "GxbAFABjUlLc",
        "outputId": "3f816232-5797-451e-8a8e-ad0500dee726"
      },
      "outputs": [
        {
          "output_type": "execute_result",
          "data": {
            "text/html": [
              "\n",
              "  <div id=\"df-c48e167a-c6f3-4321-9169-1e7a08971d8e\">\n",
              "    <div class=\"colab-df-container\">\n",
              "      <div>\n",
              "<style scoped>\n",
              "    .dataframe tbody tr th:only-of-type {\n",
              "        vertical-align: middle;\n",
              "    }\n",
              "\n",
              "    .dataframe tbody tr th {\n",
              "        vertical-align: top;\n",
              "    }\n",
              "\n",
              "    .dataframe thead th {\n",
              "        text-align: right;\n",
              "    }\n",
              "</style>\n",
              "<table border=\"1\" class=\"dataframe\">\n",
              "  <thead>\n",
              "    <tr style=\"text-align: right;\">\n",
              "      <th></th>\n",
              "      <th>par_id</th>\n",
              "      <th>art_id</th>\n",
              "      <th>keyword</th>\n",
              "      <th>country</th>\n",
              "      <th>text</th>\n",
              "      <th>label</th>\n",
              "      <th>orig_label</th>\n",
              "    </tr>\n",
              "  </thead>\n",
              "  <tbody>\n",
              "    <tr>\n",
              "      <th>0</th>\n",
              "      <td>@@23953477</td>\n",
              "      <td>in-need</td>\n",
              "      <td>in</td>\n",
              "      <td>The ones in need of constant medical care are ...</td>\n",
              "      <td>0</td>\n",
              "      <td>0</td>\n",
              "      <td>0</td>\n",
              "    </tr>\n",
              "    <tr>\n",
              "      <th>1</th>\n",
              "      <td>@@4703096</td>\n",
              "      <td>immigrant</td>\n",
              "      <td>jm</td>\n",
              "      <td>NBC and Spanish-language Univision both declin...</td>\n",
              "      <td>0</td>\n",
              "      <td>0</td>\n",
              "      <td>0</td>\n",
              "    </tr>\n",
              "    <tr>\n",
              "      <th>2</th>\n",
              "      <td>@@25567226</td>\n",
              "      <td>in-need</td>\n",
              "      <td>hk</td>\n",
              "      <td>A second T-Home project is being launched in t...</td>\n",
              "      <td>0</td>\n",
              "      <td>0</td>\n",
              "      <td>0</td>\n",
              "    </tr>\n",
              "    <tr>\n",
              "      <th>3</th>\n",
              "      <td>@@1824078</td>\n",
              "      <td>poor-families</td>\n",
              "      <td>tz</td>\n",
              "      <td>Camfed would like to see this trend reversed ....</td>\n",
              "      <td>4</td>\n",
              "      <td>1</td>\n",
              "      <td>4</td>\n",
              "    </tr>\n",
              "    <tr>\n",
              "      <th>4</th>\n",
              "      <td>@@1921089</td>\n",
              "      <td>refugee</td>\n",
              "      <td>tz</td>\n",
              "      <td>Kagunga village was reported to lack necessary...</td>\n",
              "      <td>0</td>\n",
              "      <td>0</td>\n",
              "      <td>0</td>\n",
              "    </tr>\n",
              "  </tbody>\n",
              "</table>\n",
              "</div>\n",
              "      <button class=\"colab-df-convert\" onclick=\"convertToInteractive('df-c48e167a-c6f3-4321-9169-1e7a08971d8e')\"\n",
              "              title=\"Convert this dataframe to an interactive table.\"\n",
              "              style=\"display:none;\">\n",
              "        \n",
              "  <svg xmlns=\"http://www.w3.org/2000/svg\" height=\"24px\"viewBox=\"0 0 24 24\"\n",
              "       width=\"24px\">\n",
              "    <path d=\"M0 0h24v24H0V0z\" fill=\"none\"/>\n",
              "    <path d=\"M18.56 5.44l.94 2.06.94-2.06 2.06-.94-2.06-.94-.94-2.06-.94 2.06-2.06.94zm-11 1L8.5 8.5l.94-2.06 2.06-.94-2.06-.94L8.5 2.5l-.94 2.06-2.06.94zm10 10l.94 2.06.94-2.06 2.06-.94-2.06-.94-.94-2.06-.94 2.06-2.06.94z\"/><path d=\"M17.41 7.96l-1.37-1.37c-.4-.4-.92-.59-1.43-.59-.52 0-1.04.2-1.43.59L10.3 9.45l-7.72 7.72c-.78.78-.78 2.05 0 2.83L4 21.41c.39.39.9.59 1.41.59.51 0 1.02-.2 1.41-.59l7.78-7.78 2.81-2.81c.8-.78.8-2.07 0-2.86zM5.41 20L4 18.59l7.72-7.72 1.47 1.35L5.41 20z\"/>\n",
              "  </svg>\n",
              "      </button>\n",
              "      \n",
              "  <style>\n",
              "    .colab-df-container {\n",
              "      display:flex;\n",
              "      flex-wrap:wrap;\n",
              "      gap: 12px;\n",
              "    }\n",
              "\n",
              "    .colab-df-convert {\n",
              "      background-color: #E8F0FE;\n",
              "      border: none;\n",
              "      border-radius: 50%;\n",
              "      cursor: pointer;\n",
              "      display: none;\n",
              "      fill: #1967D2;\n",
              "      height: 32px;\n",
              "      padding: 0 0 0 0;\n",
              "      width: 32px;\n",
              "    }\n",
              "\n",
              "    .colab-df-convert:hover {\n",
              "      background-color: #E2EBFA;\n",
              "      box-shadow: 0px 1px 2px rgba(60, 64, 67, 0.3), 0px 1px 3px 1px rgba(60, 64, 67, 0.15);\n",
              "      fill: #174EA6;\n",
              "    }\n",
              "\n",
              "    [theme=dark] .colab-df-convert {\n",
              "      background-color: #3B4455;\n",
              "      fill: #D2E3FC;\n",
              "    }\n",
              "\n",
              "    [theme=dark] .colab-df-convert:hover {\n",
              "      background-color: #434B5C;\n",
              "      box-shadow: 0px 1px 3px 1px rgba(0, 0, 0, 0.15);\n",
              "      filter: drop-shadow(0px 1px 2px rgba(0, 0, 0, 0.3));\n",
              "      fill: #FFFFFF;\n",
              "    }\n",
              "  </style>\n",
              "\n",
              "      <script>\n",
              "        const buttonEl =\n",
              "          document.querySelector('#df-c48e167a-c6f3-4321-9169-1e7a08971d8e button.colab-df-convert');\n",
              "        buttonEl.style.display =\n",
              "          google.colab.kernel.accessAllowed ? 'block' : 'none';\n",
              "\n",
              "        async function convertToInteractive(key) {\n",
              "          const element = document.querySelector('#df-c48e167a-c6f3-4321-9169-1e7a08971d8e');\n",
              "          const dataTable =\n",
              "            await google.colab.kernel.invokeFunction('convertToInteractive',\n",
              "                                                     [key], {});\n",
              "          if (!dataTable) return;\n",
              "\n",
              "          const docLinkHtml = 'Like what you see? Visit the ' +\n",
              "            '<a target=\"_blank\" href=https://colab.research.google.com/notebooks/data_table.ipynb>data table notebook</a>'\n",
              "            + ' to learn more about interactive tables.';\n",
              "          element.innerHTML = '';\n",
              "          dataTable['output_type'] = 'display_data';\n",
              "          await google.colab.output.renderOutput(dataTable, element);\n",
              "          const docLink = document.createElement('div');\n",
              "          docLink.innerHTML = docLinkHtml;\n",
              "          element.appendChild(docLink);\n",
              "        }\n",
              "      </script>\n",
              "    </div>\n",
              "  </div>\n",
              "  "
            ],
            "text/plain": [
              "       par_id         art_id keyword  ... text label  orig_label\n",
              "0  @@23953477        in-need      in  ...    0     0           0\n",
              "1   @@4703096      immigrant      jm  ...    0     0           0\n",
              "2  @@25567226        in-need      hk  ...    0     0           0\n",
              "3   @@1824078  poor-families      tz  ...    4     1           4\n",
              "4   @@1921089        refugee      tz  ...    0     0           0\n",
              "\n",
              "[5 rows x 7 columns]"
            ]
          },
          "metadata": {},
          "execution_count": 67
        }
      ],
      "source": [
        "df_SVM.head()"
      ]
    },
    {
      "cell_type": "code",
      "execution_count": null,
      "metadata": {
        "id": "F4efDzYbUmwd"
      },
      "outputs": [],
      "source": [
        "df_SVM=df_SVM.drop(\"par_id\", axis=1)\n",
        "df_SVM=df_SVM.drop(\"art_id\", axis=1)\n",
        "df_SVM=df_SVM.drop(\"text\", axis=1)\n",
        "df_SVM=df_SVM.drop(\"orig_label\", axis=1)\n",
        "df_SVM=df_SVM.drop(\"keyword\", axis=1)\n",
        "df_SVM = df_SVM.rename(columns={'country': 'paragraph'})"
      ]
    },
    {
      "cell_type": "code",
      "execution_count": null,
      "metadata": {
        "id": "2hwFKTx_IUwq"
      },
      "outputs": [],
      "source": [
        "df_SVM=df_SVM.dropna()"
      ]
    },
    {
      "cell_type": "code",
      "execution_count": null,
      "metadata": {
        "id": "GYWi2MJOHJ-4"
      },
      "outputs": [],
      "source": [
        ""
      ]
    },
    {
      "cell_type": "code",
      "execution_count": null,
      "metadata": {
        "colab": {
          "base_uri": "https://localhost:8080/"
        },
        "id": "fCoWDkvUSVXJ",
        "outputId": "542282db-cd21-49ac-cccb-9b219183ca10"
      },
      "outputs": [
        {
          "name": "stdout",
          "output_type": "stream",
          "text": [
            "[nltk_data] Downloading package wordnet to /root/nltk_data...\n",
            "[nltk_data]   Package wordnet is already up-to-date!\n",
            "[nltk_data] Downloading package stopwords to /root/nltk_data...\n",
            "[nltk_data]   Unzipping corpora/stopwords.zip.\n"
          ]
        },
        {
          "data": {
            "text/plain": [
              "True"
            ]
          },
          "execution_count": 89,
          "metadata": {},
          "output_type": "execute_result"
        }
      ],
      "source": [
        ""
      ]
    },
    {
      "cell_type": "code",
      "execution_count": null,
      "metadata": {
        "id": "joErd4_-F6v3"
      },
      "outputs": [],
      "source": [
        "df_SVM['paragraph'].dropna(inplace=True)\n",
        "df_SVM['paragraph'] = [entry.lower() for entry in df_SVM['paragraph']]\n",
        "df_SVM['paragraph']= [word_tokenize(entry) for entry in df_SVM['paragraph']]\n",
        "tag_map = defaultdict(lambda : wn.NOUN)\n",
        "tag_map['J'] = wn.ADJ\n",
        "tag_map['V'] = wn.VERB\n",
        "tag_map['R'] = wn.ADV"
      ]
    },
    {
      "cell_type": "code",
      "execution_count": null,
      "metadata": {
        "colab": {
          "base_uri": "https://localhost:8080/"
        },
        "id": "TyVkj_RSS_YL",
        "outputId": "f4177022-2bc8-4563-ab57-794c74769a37"
      },
      "outputs": [
        {
          "output_type": "stream",
          "name": "stdout",
          "text": [
            "[nltk_data] Downloading package averaged_perceptron_tagger to\n",
            "[nltk_data]     /root/nltk_data...\n",
            "[nltk_data]   Package averaged_perceptron_tagger is already up-to-\n",
            "[nltk_data]       date!\n"
          ]
        },
        {
          "output_type": "execute_result",
          "data": {
            "text/plain": [
              "True"
            ]
          },
          "metadata": {},
          "execution_count": 25
        }
      ],
      "source": [
        "nltk.download('averaged_perceptron_tagger')"
      ]
    },
    {
      "cell_type": "code",
      "execution_count": null,
      "metadata": {
        "id": "59JzIztHF6ji"
      },
      "outputs": [],
      "source": [
        "for index,entry in enumerate(df_SVM['paragraph']):\n",
        "    Final_words = []\n",
        "    word_Lemmatized = WordNetLemmatizer()\n",
        "    for word, tag in pos_tag(entry):\n",
        "        if word not in stopwords.words('english') and word.isalpha():\n",
        "            word_Final = word_Lemmatized.lemmatize(word,tag_map[tag[0]])\n",
        "            Final_words.append(word_Final)\n",
        "    df_SVM.loc[index,'text_final'] = str(Final_words)"
      ]
    },
    {
      "cell_type": "code",
      "execution_count": null,
      "metadata": {
        "id": "aDiKmx14F6IJ"
      },
      "outputs": [],
      "source": [
        "Train_X_SVM, Test_X_SVM, Train_Y_SVM, Test_Y_SVM = model_selection.train_test_split(df_SVM['text_final'],df_SVM['label'],test_size=0.3)"
      ]
    },
    {
      "cell_type": "code",
      "execution_count": null,
      "metadata": {
        "id": "MxRH4KBNJhdW"
      },
      "outputs": [],
      "source": [
        "Encoder = LabelEncoder()\n",
        "Train_Y_SVM = Encoder.fit_transform(Train_Y_SVM)\n",
        "Test_Y_SVM = Encoder.fit_transform(Test_Y_SVM)"
      ]
    },
    {
      "cell_type": "code",
      "execution_count": null,
      "metadata": {
        "id": "Qg6igvHohJAR"
      },
      "outputs": [],
      "source": [
        "#df_SVM['text_final']"
      ]
    },
    {
      "cell_type": "code",
      "execution_count": null,
      "metadata": {
        "id": "hQRcdErPJhYC"
      },
      "outputs": [],
      "source": [
        "Tfidf_vect = TfidfVectorizer(max_features=5000)\n",
        "Tfidf_vect.fit(df_SVM['text_final'])\n",
        "Train_X_Tfidf = Tfidf_vect.transform(Train_X_SVM)\n",
        "Test_X_Tfidf = Tfidf_vect.transform(Test_X_SVM)"
      ]
    },
    {
      "cell_type": "code",
      "source": [
        ""
      ],
      "metadata": {
        "id": "FP--IGJFPZro"
      },
      "execution_count": null,
      "outputs": []
    },
    {
      "cell_type": "code",
      "source": [
        "svc=SVC()"
      ],
      "metadata": {
        "id": "y_eV2qLYPck3"
      },
      "execution_count": null,
      "outputs": []
    },
    {
      "cell_type": "code",
      "source": [
        "param_grid = {'C': [0.1, 1, 10, 100, 1000], \n",
        "              'gamma': [1, 0.1, 0.01, 0.001, 0.0001],\n",
        "              'kernel': ['rbf']} \n",
        "  \n",
        "grid = GridSearchCV(svc, param_grid, refit = True, verbose = 3,scoring=\"f1\")"
      ],
      "metadata": {
        "id": "wuOt_oZJONLp"
      },
      "execution_count": null,
      "outputs": []
    },
    {
      "cell_type": "code",
      "source": [
        "grid.fit(Train_X_Tfidf,Train_Y_SVM)"
      ],
      "metadata": {
        "colab": {
          "base_uri": "https://localhost:8080/"
        },
        "id": "yMHBqlgzP-RO",
        "outputId": "07dbf1bf-2e14-46b8-f175-a5de3805070a"
      },
      "execution_count": null,
      "outputs": [
        {
          "output_type": "stream",
          "name": "stdout",
          "text": [
            "Fitting 5 folds for each of 25 candidates, totalling 125 fits\n",
            "[CV 1/5] END ........C=0.1, gamma=1, kernel=rbf;, score=0.000 total time=  11.0s\n",
            "[CV 2/5] END ........C=0.1, gamma=1, kernel=rbf;, score=0.000 total time=   9.4s\n",
            "[CV 3/5] END ........C=0.1, gamma=1, kernel=rbf;, score=0.000 total time=   9.2s\n",
            "[CV 4/5] END ........C=0.1, gamma=1, kernel=rbf;, score=0.000 total time=   9.3s\n",
            "[CV 5/5] END ........C=0.1, gamma=1, kernel=rbf;, score=0.000 total time=   9.4s\n",
            "[CV 1/5] END ......C=0.1, gamma=0.1, kernel=rbf;, score=0.000 total time=   4.1s\n",
            "[CV 2/5] END ......C=0.1, gamma=0.1, kernel=rbf;, score=0.000 total time=   4.2s\n",
            "[CV 3/5] END ......C=0.1, gamma=0.1, kernel=rbf;, score=0.000 total time=   4.1s\n",
            "[CV 4/5] END ......C=0.1, gamma=0.1, kernel=rbf;, score=0.000 total time=   4.1s\n",
            "[CV 5/5] END ......C=0.1, gamma=0.1, kernel=rbf;, score=0.000 total time=   4.1s\n",
            "[CV 1/5] END .....C=0.1, gamma=0.01, kernel=rbf;, score=0.000 total time=   2.9s\n",
            "[CV 2/5] END .....C=0.1, gamma=0.01, kernel=rbf;, score=0.000 total time=   2.9s\n",
            "[CV 3/5] END .....C=0.1, gamma=0.01, kernel=rbf;, score=0.000 total time=   2.8s\n",
            "[CV 4/5] END .....C=0.1, gamma=0.01, kernel=rbf;, score=0.000 total time=   2.8s\n",
            "[CV 5/5] END .....C=0.1, gamma=0.01, kernel=rbf;, score=0.000 total time=   2.8s\n",
            "[CV 1/5] END ....C=0.1, gamma=0.001, kernel=rbf;, score=0.000 total time=   2.3s\n",
            "[CV 2/5] END ....C=0.1, gamma=0.001, kernel=rbf;, score=0.000 total time=   2.2s\n",
            "[CV 3/5] END ....C=0.1, gamma=0.001, kernel=rbf;, score=0.000 total time=   2.3s\n",
            "[CV 4/5] END ....C=0.1, gamma=0.001, kernel=rbf;, score=0.000 total time=   2.4s\n",
            "[CV 5/5] END ....C=0.1, gamma=0.001, kernel=rbf;, score=0.000 total time=   2.3s\n",
            "[CV 1/5] END ...C=0.1, gamma=0.0001, kernel=rbf;, score=0.000 total time=   2.3s\n",
            "[CV 2/5] END ...C=0.1, gamma=0.0001, kernel=rbf;, score=0.000 total time=   2.3s\n",
            "[CV 3/5] END ...C=0.1, gamma=0.0001, kernel=rbf;, score=0.000 total time=   2.3s\n",
            "[CV 4/5] END ...C=0.1, gamma=0.0001, kernel=rbf;, score=0.000 total time=   2.5s\n",
            "[CV 5/5] END ...C=0.1, gamma=0.0001, kernel=rbf;, score=0.000 total time=   2.5s\n",
            "[CV 1/5] END ..........C=1, gamma=1, kernel=rbf;, score=0.015 total time=  10.0s\n",
            "[CV 2/5] END ..........C=1, gamma=1, kernel=rbf;, score=0.015 total time=   9.9s\n",
            "[CV 3/5] END ..........C=1, gamma=1, kernel=rbf;, score=0.000 total time=   9.7s\n",
            "[CV 4/5] END ..........C=1, gamma=1, kernel=rbf;, score=0.015 total time=   9.5s\n",
            "[CV 5/5] END ..........C=1, gamma=1, kernel=rbf;, score=0.015 total time=   9.5s\n",
            "[CV 1/5] END ........C=1, gamma=0.1, kernel=rbf;, score=0.000 total time=   4.5s\n",
            "[CV 2/5] END ........C=1, gamma=0.1, kernel=rbf;, score=0.000 total time=   4.6s\n",
            "[CV 3/5] END ........C=1, gamma=0.1, kernel=rbf;, score=0.000 total time=   4.4s\n",
            "[CV 4/5] END ........C=1, gamma=0.1, kernel=rbf;, score=0.000 total time=   4.3s\n",
            "[CV 5/5] END ........C=1, gamma=0.1, kernel=rbf;, score=0.000 total time=   4.3s\n",
            "[CV 1/5] END .......C=1, gamma=0.01, kernel=rbf;, score=0.000 total time=   4.1s\n",
            "[CV 2/5] END .......C=1, gamma=0.01, kernel=rbf;, score=0.000 total time=   4.1s\n",
            "[CV 3/5] END .......C=1, gamma=0.01, kernel=rbf;, score=0.000 total time=   4.3s\n",
            "[CV 4/5] END .......C=1, gamma=0.01, kernel=rbf;, score=0.000 total time=   4.3s\n",
            "[CV 5/5] END .......C=1, gamma=0.01, kernel=rbf;, score=0.000 total time=   4.3s\n",
            "[CV 1/5] END ......C=1, gamma=0.001, kernel=rbf;, score=0.000 total time=   3.0s\n",
            "[CV 2/5] END ......C=1, gamma=0.001, kernel=rbf;, score=0.000 total time=   2.9s\n",
            "[CV 3/5] END ......C=1, gamma=0.001, kernel=rbf;, score=0.000 total time=   3.0s\n",
            "[CV 4/5] END ......C=1, gamma=0.001, kernel=rbf;, score=0.000 total time=   2.9s\n",
            "[CV 5/5] END ......C=1, gamma=0.001, kernel=rbf;, score=0.000 total time=   2.9s\n",
            "[CV 1/5] END .....C=1, gamma=0.0001, kernel=rbf;, score=0.000 total time=   2.3s\n",
            "[CV 2/5] END .....C=1, gamma=0.0001, kernel=rbf;, score=0.000 total time=   2.2s\n",
            "[CV 3/5] END .....C=1, gamma=0.0001, kernel=rbf;, score=0.000 total time=   2.2s\n",
            "[CV 4/5] END .....C=1, gamma=0.0001, kernel=rbf;, score=0.000 total time=   2.2s\n",
            "[CV 5/5] END .....C=1, gamma=0.0001, kernel=rbf;, score=0.000 total time=   2.3s\n",
            "[CV 1/5] END .........C=10, gamma=1, kernel=rbf;, score=0.120 total time=  10.8s\n",
            "[CV 2/5] END .........C=10, gamma=1, kernel=rbf;, score=0.118 total time=  10.7s\n",
            "[CV 3/5] END .........C=10, gamma=1, kernel=rbf;, score=0.119 total time=  11.0s\n",
            "[CV 4/5] END .........C=10, gamma=1, kernel=rbf;, score=0.122 total time=  11.0s\n",
            "[CV 5/5] END .........C=10, gamma=1, kernel=rbf;, score=0.181 total time=  10.9s\n",
            "[CV 1/5] END .......C=10, gamma=0.1, kernel=rbf;, score=0.211 total time=   4.8s\n",
            "[CV 2/5] END .......C=10, gamma=0.1, kernel=rbf;, score=0.263 total time=   4.7s\n",
            "[CV 3/5] END .......C=10, gamma=0.1, kernel=rbf;, score=0.273 total time=   4.7s\n",
            "[CV 4/5] END .......C=10, gamma=0.1, kernel=rbf;, score=0.217 total time=   4.8s\n",
            "[CV 5/5] END .......C=10, gamma=0.1, kernel=rbf;, score=0.266 total time=   4.9s\n",
            "[CV 1/5] END ......C=10, gamma=0.01, kernel=rbf;, score=0.000 total time=   4.2s\n",
            "[CV 2/5] END ......C=10, gamma=0.01, kernel=rbf;, score=0.000 total time=   4.5s\n",
            "[CV 3/5] END ......C=10, gamma=0.01, kernel=rbf;, score=0.000 total time=   4.4s\n",
            "[CV 4/5] END ......C=10, gamma=0.01, kernel=rbf;, score=0.000 total time=   4.2s\n",
            "[CV 5/5] END ......C=10, gamma=0.01, kernel=rbf;, score=0.000 total time=   4.5s\n",
            "[CV 1/5] END .....C=10, gamma=0.001, kernel=rbf;, score=0.000 total time=   4.0s\n",
            "[CV 2/5] END .....C=10, gamma=0.001, kernel=rbf;, score=0.000 total time=   4.4s\n",
            "[CV 3/5] END .....C=10, gamma=0.001, kernel=rbf;, score=0.000 total time=   4.0s\n",
            "[CV 4/5] END .....C=10, gamma=0.001, kernel=rbf;, score=0.000 total time=   4.1s\n",
            "[CV 5/5] END .....C=10, gamma=0.001, kernel=rbf;, score=0.000 total time=   4.0s\n",
            "[CV 1/5] END ....C=10, gamma=0.0001, kernel=rbf;, score=0.000 total time=   3.0s\n",
            "[CV 2/5] END ....C=10, gamma=0.0001, kernel=rbf;, score=0.000 total time=   3.0s\n",
            "[CV 3/5] END ....C=10, gamma=0.0001, kernel=rbf;, score=0.000 total time=   3.0s\n",
            "[CV 4/5] END ....C=10, gamma=0.0001, kernel=rbf;, score=0.000 total time=   3.1s\n",
            "[CV 5/5] END ....C=10, gamma=0.0001, kernel=rbf;, score=0.000 total time=   3.0s\n",
            "[CV 1/5] END ........C=100, gamma=1, kernel=rbf;, score=0.120 total time=  11.8s\n",
            "[CV 2/5] END ........C=100, gamma=1, kernel=rbf;, score=0.118 total time=  11.7s\n",
            "[CV 3/5] END ........C=100, gamma=1, kernel=rbf;, score=0.119 total time=  11.1s\n",
            "[CV 4/5] END ........C=100, gamma=1, kernel=rbf;, score=0.122 total time=  11.2s\n",
            "[CV 5/5] END ........C=100, gamma=1, kernel=rbf;, score=0.181 total time=  11.5s\n",
            "[CV 1/5] END ......C=100, gamma=0.1, kernel=rbf;, score=0.223 total time=   5.1s\n",
            "[CV 2/5] END ......C=100, gamma=0.1, kernel=rbf;, score=0.308 total time=   5.3s\n",
            "[CV 3/5] END ......C=100, gamma=0.1, kernel=rbf;, score=0.316 total time=   5.3s\n",
            "[CV 4/5] END ......C=100, gamma=0.1, kernel=rbf;, score=0.277 total time=   5.1s\n",
            "[CV 5/5] END ......C=100, gamma=0.1, kernel=rbf;, score=0.352 total time=   5.0s\n",
            "[CV 1/5] END .....C=100, gamma=0.01, kernel=rbf;, score=0.213 total time=   4.7s\n",
            "[CV 2/5] END .....C=100, gamma=0.01, kernel=rbf;, score=0.257 total time=   4.7s\n",
            "[CV 3/5] END .....C=100, gamma=0.01, kernel=rbf;, score=0.314 total time=   4.5s\n",
            "[CV 4/5] END .....C=100, gamma=0.01, kernel=rbf;, score=0.264 total time=   4.5s\n",
            "[CV 5/5] END .....C=100, gamma=0.01, kernel=rbf;, score=0.293 total time=   4.5s\n",
            "[CV 1/5] END ....C=100, gamma=0.001, kernel=rbf;, score=0.000 total time=   4.3s\n",
            "[CV 2/5] END ....C=100, gamma=0.001, kernel=rbf;, score=0.000 total time=   4.3s\n",
            "[CV 3/5] END ....C=100, gamma=0.001, kernel=rbf;, score=0.000 total time=   4.2s\n",
            "[CV 4/5] END ....C=100, gamma=0.001, kernel=rbf;, score=0.000 total time=   4.3s\n",
            "[CV 5/5] END ....C=100, gamma=0.001, kernel=rbf;, score=0.000 total time=   4.2s\n",
            "[CV 1/5] END ...C=100, gamma=0.0001, kernel=rbf;, score=0.000 total time=   4.1s\n",
            "[CV 2/5] END ...C=100, gamma=0.0001, kernel=rbf;, score=0.000 total time=   4.3s\n",
            "[CV 3/5] END ...C=100, gamma=0.0001, kernel=rbf;, score=0.000 total time=   4.2s\n",
            "[CV 4/5] END ...C=100, gamma=0.0001, kernel=rbf;, score=0.000 total time=   4.4s\n",
            "[CV 5/5] END ...C=100, gamma=0.0001, kernel=rbf;, score=0.000 total time=   4.1s\n",
            "[CV 1/5] END .......C=1000, gamma=1, kernel=rbf;, score=0.120 total time=  11.4s\n",
            "[CV 2/5] END .......C=1000, gamma=1, kernel=rbf;, score=0.118 total time=  10.9s\n",
            "[CV 3/5] END .......C=1000, gamma=1, kernel=rbf;, score=0.119 total time=  10.8s\n",
            "[CV 4/5] END .......C=1000, gamma=1, kernel=rbf;, score=0.122 total time=  10.5s\n",
            "[CV 5/5] END .......C=1000, gamma=1, kernel=rbf;, score=0.181 total time=  10.5s\n",
            "[CV 1/5] END .....C=1000, gamma=0.1, kernel=rbf;, score=0.223 total time=   5.2s\n",
            "[CV 2/5] END .....C=1000, gamma=0.1, kernel=rbf;, score=0.308 total time=   5.2s\n",
            "[CV 3/5] END .....C=1000, gamma=0.1, kernel=rbf;, score=0.316 total time=   4.8s\n",
            "[CV 4/5] END .....C=1000, gamma=0.1, kernel=rbf;, score=0.277 total time=   5.0s\n",
            "[CV 5/5] END .....C=1000, gamma=0.1, kernel=rbf;, score=0.352 total time=   5.1s\n",
            "[CV 1/5] END ....C=1000, gamma=0.01, kernel=rbf;, score=0.225 total time=   4.7s\n",
            "[CV 2/5] END ....C=1000, gamma=0.01, kernel=rbf;, score=0.307 total time=   4.9s\n",
            "[CV 3/5] END ....C=1000, gamma=0.01, kernel=rbf;, score=0.333 total time=   4.8s\n",
            "[CV 4/5] END ....C=1000, gamma=0.01, kernel=rbf;, score=0.286 total time=   4.6s\n",
            "[CV 5/5] END ....C=1000, gamma=0.01, kernel=rbf;, score=0.330 total time=   4.8s\n",
            "[CV 1/5] END ...C=1000, gamma=0.001, kernel=rbf;, score=0.223 total time=   4.5s\n",
            "[CV 2/5] END ...C=1000, gamma=0.001, kernel=rbf;, score=0.256 total time=   4.5s\n",
            "[CV 3/5] END ...C=1000, gamma=0.001, kernel=rbf;, score=0.312 total time=   4.4s\n",
            "[CV 4/5] END ...C=1000, gamma=0.001, kernel=rbf;, score=0.273 total time=   4.5s\n",
            "[CV 5/5] END ...C=1000, gamma=0.001, kernel=rbf;, score=0.293 total time=   4.6s\n",
            "[CV 1/5] END ..C=1000, gamma=0.0001, kernel=rbf;, score=0.000 total time=   4.2s\n",
            "[CV 2/5] END ..C=1000, gamma=0.0001, kernel=rbf;, score=0.000 total time=   4.3s\n",
            "[CV 3/5] END ..C=1000, gamma=0.0001, kernel=rbf;, score=0.000 total time=   4.2s\n",
            "[CV 4/5] END ..C=1000, gamma=0.0001, kernel=rbf;, score=0.000 total time=   4.1s\n",
            "[CV 5/5] END ..C=1000, gamma=0.0001, kernel=rbf;, score=0.000 total time=   4.2s\n"
          ]
        },
        {
          "output_type": "execute_result",
          "data": {
            "text/plain": [
              "GridSearchCV(estimator=SVC(),\n",
              "             param_grid={'C': [0.1, 1, 10, 100, 1000],\n",
              "                         'gamma': [1, 0.1, 0.01, 0.001, 0.0001],\n",
              "                         'kernel': ['rbf']},\n",
              "             scoring='f1', verbose=3)"
            ]
          },
          "metadata": {},
          "execution_count": 296
        }
      ]
    },
    {
      "cell_type": "code",
      "source": [
        "print(grid.best_params_)"
      ],
      "metadata": {
        "colab": {
          "base_uri": "https://localhost:8080/"
        },
        "id": "GDiSdz2OP5C3",
        "outputId": "5014fe98-3b8e-4839-bcda-e2e2a6a58dda"
      },
      "execution_count": null,
      "outputs": [
        {
          "output_type": "stream",
          "name": "stdout",
          "text": [
            "{'C': 1000, 'gamma': 0.01, 'kernel': 'rbf'}\n"
          ]
        }
      ]
    },
    {
      "cell_type": "code",
      "execution_count": null,
      "metadata": {
        "colab": {
          "base_uri": "https://localhost:8080/"
        },
        "id": "o4ie1nEkK4qK",
        "outputId": "f021b3e9-6b13-46c6-d432-acbe17efe1df"
      },
      "outputs": [
        {
          "output_type": "stream",
          "name": "stdout",
          "text": [
            "SVM Accuracy Score ->  87.80946411783141\n"
          ]
        }
      ],
      "source": [
        "SVM = svm.SVC(C=1000.0, kernel='rbf', gamma=0.01)\n",
        "SVM.fit(Train_X_Tfidf,Train_Y_SVM)\n",
        "\n",
        "predictions_SVM = SVM.predict(Test_X_Tfidf)\n",
        "print(\"SVM Accuracy Score -> \",accuracy_score(predictions_SVM, Test_Y_SVM)*100)"
      ]
    },
    {
      "cell_type": "code",
      "source": [
        ""
      ],
      "metadata": {
        "id": "evan9i1tN14I"
      },
      "execution_count": null,
      "outputs": []
    },
    {
      "cell_type": "code",
      "source": [
        "#sklearn.metrics.f1_score\n",
        "F1_SVM=f1_score(predictions_SVM, Test_Y_SVM)"
      ],
      "metadata": {
        "id": "Olfao6eFK4yA"
      },
      "execution_count": null,
      "outputs": []
    },
    {
      "cell_type": "code",
      "source": [
        "f1_score(predictions_SVM, Test_Y_SVM)"
      ],
      "metadata": {
        "id": "JToewhwvcoWM"
      },
      "execution_count": null,
      "outputs": []
    },
    {
      "cell_type": "code",
      "source": [
        "CM=confusion_matrix(Test_Y_SVM,predictions_SVM)\n",
        "CM"
      ],
      "metadata": {
        "colab": {
          "base_uri": "https://localhost:8080/"
        },
        "id": "KBJMKLF5S9Bg",
        "outputId": "f15d78ce-22de-4f63-b77c-b7981501526e"
      },
      "execution_count": null,
      "outputs": [
        {
          "output_type": "execute_result",
          "data": {
            "text/plain": [
              "array([[2695,  171],\n",
              "       [ 218,  107]])"
            ]
          },
          "metadata": {},
          "execution_count": 307
        }
      ]
    },
    {
      "cell_type": "code",
      "source": [
        "#classification_report(Test_Y_SVM,predictions_SVM)"
      ],
      "metadata": {
        "id": "84xHoHBhcsSF"
      },
      "execution_count": null,
      "outputs": []
    },
    {
      "cell_type": "code",
      "source": [
        "F1_SVM"
      ],
      "metadata": {
        "colab": {
          "base_uri": "https://localhost:8080/"
        },
        "id": "SQy7IBvg57uA",
        "outputId": "f6789bf5-858b-4f76-c928-09a338ec6b26"
      },
      "execution_count": null,
      "outputs": [
        {
          "output_type": "execute_result",
          "data": {
            "text/plain": [
              "0.35489220563847423"
            ]
          },
          "metadata": {},
          "execution_count": 383
        }
      ]
    },
    {
      "cell_type": "code",
      "source": [
        "F1_list.append(\"F1_SVM\")\n",
        "F1_score.append(F1_SVM)"
      ],
      "metadata": {
        "id": "Mt9UlgNoN8Zx",
        "colab": {
          "base_uri": "https://localhost:8080/",
          "height": 183
        },
        "outputId": "597d6943-8f50-4b2c-971b-b2f02ebdb78e"
      },
      "execution_count": 5,
      "outputs": [
        {
          "output_type": "error",
          "ename": "NameError",
          "evalue": "ignored",
          "traceback": [
            "\u001b[0;31m---------------------------------------------------------------------------\u001b[0m",
            "\u001b[0;31mNameError\u001b[0m                                 Traceback (most recent call last)",
            "\u001b[0;32m<ipython-input-5-e86b16791e05>\u001b[0m in \u001b[0;36m<module>\u001b[0;34m()\u001b[0m\n\u001b[0;32m----> 1\u001b[0;31m \u001b[0mF1_list\u001b[0m\u001b[0;34m.\u001b[0m\u001b[0mappend\u001b[0m\u001b[0;34m(\u001b[0m\u001b[0;34m\"F1_SVM\"\u001b[0m\u001b[0;34m)\u001b[0m\u001b[0;34m\u001b[0m\u001b[0;34m\u001b[0m\u001b[0m\n\u001b[0m\u001b[1;32m      2\u001b[0m \u001b[0mF1_score\u001b[0m\u001b[0;34m.\u001b[0m\u001b[0mappend\u001b[0m\u001b[0;34m(\u001b[0m\u001b[0mF1_SVM\u001b[0m\u001b[0;34m)\u001b[0m\u001b[0;34m\u001b[0m\u001b[0;34m\u001b[0m\u001b[0m\n",
            "\u001b[0;31mNameError\u001b[0m: name 'F1_list' is not defined"
          ]
        }
      ]
    },
    {
      "cell_type": "code",
      "execution_count": 2,
      "metadata": {
        "id": "gvYepbAIWyIb",
        "colab": {
          "base_uri": "https://localhost:8080/",
          "height": 183
        },
        "outputId": "d6d7c8be-34e7-4562-ab70-7990f61be6f6"
      },
      "outputs": [
        {
          "output_type": "error",
          "ename": "NameError",
          "evalue": "ignored",
          "traceback": [
            "\u001b[0;31m---------------------------------------------------------------------------\u001b[0m",
            "\u001b[0;31mNameError\u001b[0m                                 Traceback (most recent call last)",
            "\u001b[0;32m<ipython-input-2-c5c510168481>\u001b[0m in \u001b[0;36m<module>\u001b[0;34m()\u001b[0m\n\u001b[0;32m----> 1\u001b[0;31m \u001b[0mMetrics_list\u001b[0m\u001b[0;34m.\u001b[0m\u001b[0mappend\u001b[0m\u001b[0;34m(\u001b[0m\u001b[0;34m\"SVM_accuracy\"\u001b[0m\u001b[0;34m)\u001b[0m\u001b[0;34m\u001b[0m\u001b[0;34m\u001b[0m\u001b[0m\n\u001b[0m\u001b[1;32m      2\u001b[0m \u001b[0mMetrics_score\u001b[0m\u001b[0;34m.\u001b[0m\u001b[0mappend\u001b[0m\u001b[0;34m(\u001b[0m\u001b[0maccuracy_score\u001b[0m\u001b[0;34m(\u001b[0m\u001b[0mpredictions_SVM\u001b[0m\u001b[0;34m,\u001b[0m \u001b[0mTest_Y_SVM\u001b[0m\u001b[0;34m)\u001b[0m\u001b[0;34m[\u001b[0m\u001b[0;36m1\u001b[0m\u001b[0;34m]\u001b[0m\u001b[0;34m)\u001b[0m\u001b[0;34m\u001b[0m\u001b[0;34m\u001b[0m\u001b[0m\n",
            "\u001b[0;31mNameError\u001b[0m: name 'Metrics_list' is not defined"
          ]
        }
      ],
      "source": [
        "Metrics_list.append(\"SVM_accuracy\")\n",
        "Metrics_score.append(accuracy_score(predictions_SVM, Test_Y_SVM)[1])"
      ]
    },
    {
      "cell_type": "code",
      "execution_count": null,
      "metadata": {
        "colab": {
          "base_uri": "https://localhost:8080/"
        },
        "id": "S4MlcWalJhMe",
        "outputId": "b9973a63-6194-4182-ba7e-57e75d6c12fa"
      },
      "outputs": [
        {
          "output_type": "execute_result",
          "data": {
            "text/plain": [
              "array([[2895,  296],\n",
              "       [   0,    0]])"
            ]
          },
          "metadata": {},
          "execution_count": 76
        }
      ],
      "source": [
        "confusion_matrix(predictions_SVM, Test_Y_SVM)"
      ]
    },
    {
      "cell_type": "code",
      "execution_count": null,
      "metadata": {
        "colab": {
          "background_save": true
        },
        "id": "uUvGHSeoXk2m",
        "outputId": "ea5283b5-271c-4c94-d076-f4827cf67430"
      },
      "outputs": [
        {
          "name": "stdout",
          "output_type": "stream",
          "text": [
            "              precision    recall  f1-score   support\n",
            "\n",
            "           0       1.00      0.92      0.95      3158\n",
            "           1       0.09      0.79      0.16        33\n",
            "\n",
            "    accuracy                           0.91      3191\n",
            "   macro avg       0.54      0.85      0.56      3191\n",
            "weighted avg       0.99      0.91      0.95      3191\n",
            "\n"
          ]
        }
      ],
      "source": [
        "print(classification_report(predictions_SVM, Test_Y_SVM))"
      ]
    },
    {
      "cell_type": "code",
      "source": [
        ""
      ],
      "metadata": {
        "id": "8Ttjh_fRNmhH"
      },
      "execution_count": null,
      "outputs": []
    },
    {
      "cell_type": "markdown",
      "metadata": {
        "id": "Y9krs0R_jp4S"
      },
      "source": [
        "# RNN / LSTM take 2"
      ]
    },
    {
      "cell_type": "markdown",
      "metadata": {
        "id": "KlyqwzDelRba"
      },
      "source": [
        "so game plan here is to either try use the tokenized text u used for SVM, or to try and use the tokenized stuff from CNN. \n",
        "Couldn't figure out wtf was going on with CNN so maybe just try use the SVM one or leave it lol\n",
        "https://www.kaggle.com/ngyptr/lstm-sentiment-analysis-keras/notebook"
      ]
    },
    {
      "cell_type": "code",
      "execution_count": null,
      "metadata": {
        "id": "3NuZuTxaHiPl"
      },
      "outputs": [],
      "source": [
        "df_RNN=df_SVM"
      ]
    },
    {
      "cell_type": "code",
      "execution_count": null,
      "metadata": {
        "id": "d-Lc_7p2XzR-",
        "colab": {
          "base_uri": "https://localhost:8080/",
          "height": 423
        },
        "outputId": "12a49255-f41c-4e86-8dec-91e66247e34d"
      },
      "outputs": [
        {
          "output_type": "execute_result",
          "data": {
            "text/html": [
              "\n",
              "  <div id=\"df-e595efbe-326e-4128-b350-19fbebbdcfb1\">\n",
              "    <div class=\"colab-df-container\">\n",
              "      <div>\n",
              "<style scoped>\n",
              "    .dataframe tbody tr th:only-of-type {\n",
              "        vertical-align: middle;\n",
              "    }\n",
              "\n",
              "    .dataframe tbody tr th {\n",
              "        vertical-align: top;\n",
              "    }\n",
              "\n",
              "    .dataframe thead th {\n",
              "        text-align: right;\n",
              "    }\n",
              "</style>\n",
              "<table border=\"1\" class=\"dataframe\">\n",
              "  <thead>\n",
              "    <tr style=\"text-align: right;\">\n",
              "      <th></th>\n",
              "      <th>paragraph</th>\n",
              "      <th>label</th>\n",
              "    </tr>\n",
              "  </thead>\n",
              "  <tbody>\n",
              "    <tr>\n",
              "      <th>0</th>\n",
              "      <td>[the, ones, in, need, of, constant, medical, c...</td>\n",
              "      <td>0</td>\n",
              "    </tr>\n",
              "    <tr>\n",
              "      <th>1</th>\n",
              "      <td>[nbc, and, spanish-language, univision, both, ...</td>\n",
              "      <td>0</td>\n",
              "    </tr>\n",
              "    <tr>\n",
              "      <th>2</th>\n",
              "      <td>[a, second, t-home, project, is, being, launch...</td>\n",
              "      <td>0</td>\n",
              "    </tr>\n",
              "    <tr>\n",
              "      <th>3</th>\n",
              "      <td>[camfed, would, like, to, see, this, trend, re...</td>\n",
              "      <td>1</td>\n",
              "    </tr>\n",
              "    <tr>\n",
              "      <th>4</th>\n",
              "      <td>[kagunga, village, was, reported, to, lack, ne...</td>\n",
              "      <td>0</td>\n",
              "    </tr>\n",
              "    <tr>\n",
              "      <th>...</th>\n",
              "      <td>...</td>\n",
              "      <td>...</td>\n",
              "    </tr>\n",
              "    <tr>\n",
              "      <th>10631</th>\n",
              "      <td>[to, me, ,, i, am, always, mindful, that, we, ...</td>\n",
              "      <td>1</td>\n",
              "    </tr>\n",
              "    <tr>\n",
              "      <th>10632</th>\n",
              "      <td>[other, themes, included, promoting, the, incl...</td>\n",
              "      <td>0</td>\n",
              "    </tr>\n",
              "    <tr>\n",
              "      <th>10633</th>\n",
              "      <td>[it, came, as, the, cdu, was, also, humiliated...</td>\n",
              "      <td>0</td>\n",
              "    </tr>\n",
              "    <tr>\n",
              "      <th>10634</th>\n",
              "      <td>[those, were, only, days, of, helplessness, ,,...</td>\n",
              "      <td>0</td>\n",
              "    </tr>\n",
              "    <tr>\n",
              "      <th>10635</th>\n",
              "      <td>[they, include, a, community, college, student...</td>\n",
              "      <td>0</td>\n",
              "    </tr>\n",
              "  </tbody>\n",
              "</table>\n",
              "<p>10636 rows × 2 columns</p>\n",
              "</div>\n",
              "      <button class=\"colab-df-convert\" onclick=\"convertToInteractive('df-e595efbe-326e-4128-b350-19fbebbdcfb1')\"\n",
              "              title=\"Convert this dataframe to an interactive table.\"\n",
              "              style=\"display:none;\">\n",
              "        \n",
              "  <svg xmlns=\"http://www.w3.org/2000/svg\" height=\"24px\"viewBox=\"0 0 24 24\"\n",
              "       width=\"24px\">\n",
              "    <path d=\"M0 0h24v24H0V0z\" fill=\"none\"/>\n",
              "    <path d=\"M18.56 5.44l.94 2.06.94-2.06 2.06-.94-2.06-.94-.94-2.06-.94 2.06-2.06.94zm-11 1L8.5 8.5l.94-2.06 2.06-.94-2.06-.94L8.5 2.5l-.94 2.06-2.06.94zm10 10l.94 2.06.94-2.06 2.06-.94-2.06-.94-.94-2.06-.94 2.06-2.06.94z\"/><path d=\"M17.41 7.96l-1.37-1.37c-.4-.4-.92-.59-1.43-.59-.52 0-1.04.2-1.43.59L10.3 9.45l-7.72 7.72c-.78.78-.78 2.05 0 2.83L4 21.41c.39.39.9.59 1.41.59.51 0 1.02-.2 1.41-.59l7.78-7.78 2.81-2.81c.8-.78.8-2.07 0-2.86zM5.41 20L4 18.59l7.72-7.72 1.47 1.35L5.41 20z\"/>\n",
              "  </svg>\n",
              "      </button>\n",
              "      \n",
              "  <style>\n",
              "    .colab-df-container {\n",
              "      display:flex;\n",
              "      flex-wrap:wrap;\n",
              "      gap: 12px;\n",
              "    }\n",
              "\n",
              "    .colab-df-convert {\n",
              "      background-color: #E8F0FE;\n",
              "      border: none;\n",
              "      border-radius: 50%;\n",
              "      cursor: pointer;\n",
              "      display: none;\n",
              "      fill: #1967D2;\n",
              "      height: 32px;\n",
              "      padding: 0 0 0 0;\n",
              "      width: 32px;\n",
              "    }\n",
              "\n",
              "    .colab-df-convert:hover {\n",
              "      background-color: #E2EBFA;\n",
              "      box-shadow: 0px 1px 2px rgba(60, 64, 67, 0.3), 0px 1px 3px 1px rgba(60, 64, 67, 0.15);\n",
              "      fill: #174EA6;\n",
              "    }\n",
              "\n",
              "    [theme=dark] .colab-df-convert {\n",
              "      background-color: #3B4455;\n",
              "      fill: #D2E3FC;\n",
              "    }\n",
              "\n",
              "    [theme=dark] .colab-df-convert:hover {\n",
              "      background-color: #434B5C;\n",
              "      box-shadow: 0px 1px 3px 1px rgba(0, 0, 0, 0.15);\n",
              "      filter: drop-shadow(0px 1px 2px rgba(0, 0, 0, 0.3));\n",
              "      fill: #FFFFFF;\n",
              "    }\n",
              "  </style>\n",
              "\n",
              "      <script>\n",
              "        const buttonEl =\n",
              "          document.querySelector('#df-e595efbe-326e-4128-b350-19fbebbdcfb1 button.colab-df-convert');\n",
              "        buttonEl.style.display =\n",
              "          google.colab.kernel.accessAllowed ? 'block' : 'none';\n",
              "\n",
              "        async function convertToInteractive(key) {\n",
              "          const element = document.querySelector('#df-e595efbe-326e-4128-b350-19fbebbdcfb1');\n",
              "          const dataTable =\n",
              "            await google.colab.kernel.invokeFunction('convertToInteractive',\n",
              "                                                     [key], {});\n",
              "          if (!dataTable) return;\n",
              "\n",
              "          const docLinkHtml = 'Like what you see? Visit the ' +\n",
              "            '<a target=\"_blank\" href=https://colab.research.google.com/notebooks/data_table.ipynb>data table notebook</a>'\n",
              "            + ' to learn more about interactive tables.';\n",
              "          element.innerHTML = '';\n",
              "          dataTable['output_type'] = 'display_data';\n",
              "          await google.colab.output.renderOutput(dataTable, element);\n",
              "          const docLink = document.createElement('div');\n",
              "          docLink.innerHTML = docLinkHtml;\n",
              "          element.appendChild(docLink);\n",
              "        }\n",
              "      </script>\n",
              "    </div>\n",
              "  </div>\n",
              "  "
            ],
            "text/plain": [
              "                                               paragraph  label\n",
              "0      [the, ones, in, need, of, constant, medical, c...      0\n",
              "1      [nbc, and, spanish-language, univision, both, ...      0\n",
              "2      [a, second, t-home, project, is, being, launch...      0\n",
              "3      [camfed, would, like, to, see, this, trend, re...      1\n",
              "4      [kagunga, village, was, reported, to, lack, ne...      0\n",
              "...                                                  ...    ...\n",
              "10631  [to, me, ,, i, am, always, mindful, that, we, ...      1\n",
              "10632  [other, themes, included, promoting, the, incl...      0\n",
              "10633  [it, came, as, the, cdu, was, also, humiliated...      0\n",
              "10634  [those, were, only, days, of, helplessness, ,,...      0\n",
              "10635  [they, include, a, community, college, student...      0\n",
              "\n",
              "[10636 rows x 2 columns]"
            ]
          },
          "metadata": {},
          "execution_count": 76
        }
      ],
      "source": [
        "df_RNN"
      ]
    },
    {
      "cell_type": "code",
      "execution_count": null,
      "metadata": {
        "id": "0hAwAhG2F_Te"
      },
      "outputs": [],
      "source": [
        ""
      ]
    },
    {
      "cell_type": "code",
      "execution_count": null,
      "metadata": {
        "id": "1AJhwKIxGelV"
      },
      "outputs": [],
      "source": [
        "max_features=2000"
      ]
    },
    {
      "cell_type": "code",
      "execution_count": null,
      "metadata": {
        "id": "1dJGZaPPhB4q"
      },
      "outputs": [],
      "source": [
        "tokenizer_RNN=Tokenizer(max_features,split=\" \")"
      ]
    },
    {
      "cell_type": "code",
      "execution_count": null,
      "metadata": {
        "id": "1RggCGhxhBwd"
      },
      "outputs": [],
      "source": [
        "tokenizer_RNN.fit_on_texts(df_RNN['text_final'].values)"
      ]
    },
    {
      "cell_type": "code",
      "execution_count": null,
      "metadata": {
        "id": "VHAnLO78GWj7"
      },
      "outputs": [],
      "source": [
        "X_RNN = tokenizer_RNN.texts_to_sequences(df_RNN['text_final'].values)\n",
        "X_RNN=pad_sequences(X_RNN)"
      ]
    },
    {
      "cell_type": "code",
      "execution_count": null,
      "metadata": {
        "id": "41ZrGWKCGaZD"
      },
      "outputs": [],
      "source": [
        "embed_dim=32\n",
        "lstm_out=32"
      ]
    },
    {
      "cell_type": "code",
      "execution_count": null,
      "metadata": {
        "colab": {
          "base_uri": "https://localhost:8080/"
        },
        "id": "TwJnezYBGb3a",
        "outputId": "9e4a2e16-ce48-4bd4-d00b-68682a1e32ce"
      },
      "outputs": [
        {
          "output_type": "stream",
          "name": "stdout",
          "text": [
            "Model: \"sequential_4\"\n",
            "_________________________________________________________________\n",
            " Layer (type)                Output Shape              Param #   \n",
            "=================================================================\n",
            " embedding_5 (Embedding)     (None, 337, 32)           64000     \n",
            "                                                                 \n",
            " spatial_dropout1d_4 (Spatia  (None, 337, 32)          0         \n",
            " lDropout1D)                                                     \n",
            "                                                                 \n",
            " lstm_4 (LSTM)               (None, 32)                8320      \n",
            "                                                                 \n",
            " dense_6 (Dense)             (None, 2)                 66        \n",
            "                                                                 \n",
            "=================================================================\n",
            "Total params: 72,386\n",
            "Trainable params: 72,386\n",
            "Non-trainable params: 0\n",
            "_________________________________________________________________\n",
            "None\n"
          ]
        }
      ],
      "source": [
        "model_RNN = Sequential()\n",
        "model_RNN.add(Embedding(max_features, embed_dim,input_length = X_RNN.shape[1]))\n",
        "model_RNN.add(SpatialDropout1D(0.4))\n",
        "model_RNN.add(LSTM(lstm_out, dropout=0.2, recurrent_dropout=0.2))\n",
        "model_RNN.add(Dense(2,activation='sigmoid'))\n",
        "model_RNN.compile(loss = 'binary_crossentropy', optimizer='adam',metrics =tfa.metrics.F1Score(num_classes=2))\n",
        "print(model_RNN.summary())"
      ]
    },
    {
      "cell_type": "code",
      "execution_count": null,
      "metadata": {
        "colab": {
          "base_uri": "https://localhost:8080/"
        },
        "id": "q7LhDF8NKAC5",
        "outputId": "8588974d-ab30-4bfa-c1b4-ea20afcde9a9"
      },
      "outputs": [
        {
          "output_type": "stream",
          "name": "stdout",
          "text": [
            "(7126, 337) (7126, 2)\n",
            "(3510, 337) (3510, 2)\n"
          ]
        }
      ],
      "source": [
        "Y_RNN = pd.get_dummies(df_RNN['label']).values\n",
        "X_train_RNN, X_test_RNN, Y_train_RNN, Y_test_RNN = train_test_split(X_RNN,Y_RNN, test_size = 0.33, random_state = 42)\n",
        "print(X_train_RNN.shape,Y_train_RNN.shape)\n",
        "print(X_test_RNN.shape,Y_test_RNN.shape)"
      ]
    },
    {
      "cell_type": "code",
      "execution_count": null,
      "metadata": {
        "id": "VpZLtUBPJ_6p"
      },
      "outputs": [],
      "source": [
        "batch_size=32"
      ]
    },
    {
      "cell_type": "code",
      "source": [
        "validation_size_RNN = int(len(Y_test_RNN)/3)\n",
        "\n",
        "X_validate_RNN = X_test_RNN[-validation_size_RNN:]\n",
        "Y_validate_RNN = Y_test_RNN[-validation_size_RNN:]\n",
        "X_test_RNN = X_test_RNN[:-validation_size_RNN]\n",
        "Y_test_RNN = Y_test_RNN[:-validation_size_RNN]"
      ],
      "metadata": {
        "id": "c9zKgdpBmNcM"
      },
      "execution_count": null,
      "outputs": []
    },
    {
      "cell_type": "code",
      "source": [
        "NB_EPOCHS_RNN=list(range(1,6))\n",
        "RNN_f1_results=[]\n",
        "#RNN_accuracy_results=[]\n",
        "eps_list=[]\n",
        "RNN_f1_results=[]\n",
        "for epoch in NB_EPOCHS_RNN:\n",
        "    model_RNN.fit(X_train_RNN, Y_train_RNN, epochs = epoch, batch_size=batch_size, verbose = 2)\n",
        "    eps_list.append(epoch)\n",
        "    #RNN_f1_results.append(f1_score(model_RNN.predict(X_test_RNN).ravel() > 0.5, (Y_test_RNN>0.5).ravel()))\n",
        "    RNN_f1_results.append(model_RNN.evaluate(X_test_RNN,Y_test_RNN,verbose=2,batch_size=batch_size))"
      ],
      "metadata": {
        "colab": {
          "base_uri": "https://localhost:8080/",
          "height": 849
        },
        "id": "PjxT-Wklljds",
        "outputId": "832240cd-31d2-43dc-b7a8-48627bed6378"
      },
      "execution_count": null,
      "outputs": [
        {
          "output_type": "stream",
          "name": "stdout",
          "text": [
            "223/223 - 88s - loss: 0.0570 - f1_score: 0.9419 - 88s/epoch - 394ms/step\n",
            "74/74 - 3s - loss: 0.5668 - f1_score: 0.6341 - 3s/epoch - 39ms/step\n",
            "Epoch 1/2\n",
            "223/223 - 87s - loss: 0.0501 - f1_score: 0.9508 - 87s/epoch - 389ms/step\n",
            "Epoch 2/2\n",
            "223/223 - 87s - loss: 0.0487 - f1_score: 0.9438 - 87s/epoch - 389ms/step\n",
            "74/74 - 3s - loss: 0.6008 - f1_score: 0.6219 - 3s/epoch - 39ms/step\n",
            "Epoch 1/3\n",
            "223/223 - 87s - loss: 0.0485 - f1_score: 0.9479 - 87s/epoch - 389ms/step\n",
            "Epoch 2/3\n",
            "223/223 - 87s - loss: 0.0435 - f1_score: 0.9505 - 87s/epoch - 391ms/step\n",
            "Epoch 3/3\n",
            "223/223 - 88s - loss: 0.0397 - f1_score: 0.9551 - 88s/epoch - 393ms/step\n",
            "74/74 - 3s - loss: 0.6913 - f1_score: 0.6282 - 3s/epoch - 39ms/step\n",
            "Epoch 1/4\n",
            "223/223 - 88s - loss: 0.0390 - f1_score: 0.9612 - 88s/epoch - 394ms/step\n",
            "Epoch 2/4\n",
            "223/223 - 89s - loss: 0.0346 - f1_score: 0.9637 - 89s/epoch - 400ms/step\n",
            "Epoch 3/4\n",
            "223/223 - 88s - loss: 0.0322 - f1_score: 0.9650 - 88s/epoch - 396ms/step\n",
            "Epoch 4/4\n",
            "223/223 - 89s - loss: 0.0287 - f1_score: 0.9662 - 89s/epoch - 400ms/step\n",
            "74/74 - 3s - loss: 0.7499 - f1_score: 0.6287 - 3s/epoch - 39ms/step\n",
            "Epoch 1/5\n",
            "223/223 - 88s - loss: 0.0268 - f1_score: 0.9709 - 88s/epoch - 396ms/step\n",
            "Epoch 2/5\n"
          ]
        },
        {
          "output_type": "error",
          "ename": "KeyboardInterrupt",
          "evalue": "ignored",
          "traceback": [
            "\u001b[0;31m---------------------------------------------------------------------------\u001b[0m",
            "\u001b[0;31mKeyboardInterrupt\u001b[0m                         Traceback (most recent call last)",
            "\u001b[0;32m<ipython-input-378-34de10690e30>\u001b[0m in \u001b[0;36m<module>\u001b[0;34m()\u001b[0m\n\u001b[1;32m      5\u001b[0m \u001b[0mRNN_f1_results\u001b[0m\u001b[0;34m=\u001b[0m\u001b[0;34m[\u001b[0m\u001b[0;34m]\u001b[0m\u001b[0;34m\u001b[0m\u001b[0;34m\u001b[0m\u001b[0m\n\u001b[1;32m      6\u001b[0m \u001b[0;32mfor\u001b[0m \u001b[0mepoch\u001b[0m \u001b[0;32min\u001b[0m \u001b[0mNB_EPOCHS_RNN\u001b[0m\u001b[0;34m:\u001b[0m\u001b[0;34m\u001b[0m\u001b[0;34m\u001b[0m\u001b[0m\n\u001b[0;32m----> 7\u001b[0;31m     \u001b[0mmodel_RNN\u001b[0m\u001b[0;34m.\u001b[0m\u001b[0mfit\u001b[0m\u001b[0;34m(\u001b[0m\u001b[0mX_train_RNN\u001b[0m\u001b[0;34m,\u001b[0m \u001b[0mY_train_RNN\u001b[0m\u001b[0;34m,\u001b[0m \u001b[0mepochs\u001b[0m \u001b[0;34m=\u001b[0m \u001b[0mepoch\u001b[0m\u001b[0;34m,\u001b[0m \u001b[0mbatch_size\u001b[0m\u001b[0;34m=\u001b[0m\u001b[0mbatch_size\u001b[0m\u001b[0;34m,\u001b[0m \u001b[0mverbose\u001b[0m \u001b[0;34m=\u001b[0m \u001b[0;36m2\u001b[0m\u001b[0;34m)\u001b[0m\u001b[0;34m\u001b[0m\u001b[0;34m\u001b[0m\u001b[0m\n\u001b[0m\u001b[1;32m      8\u001b[0m     \u001b[0meps_list\u001b[0m\u001b[0;34m.\u001b[0m\u001b[0mappend\u001b[0m\u001b[0;34m(\u001b[0m\u001b[0mepoch\u001b[0m\u001b[0;34m)\u001b[0m\u001b[0;34m\u001b[0m\u001b[0;34m\u001b[0m\u001b[0m\n\u001b[1;32m      9\u001b[0m     \u001b[0;31m#RNN_f1_results.append(f1_score(model_RNN.predict(X_test_RNN).ravel() > 0.5, (Y_test_RNN>0.5).ravel()))\u001b[0m\u001b[0;34m\u001b[0m\u001b[0;34m\u001b[0m\u001b[0;34m\u001b[0m\u001b[0m\n",
            "\u001b[0;32m/usr/local/lib/python3.7/dist-packages/keras/utils/traceback_utils.py\u001b[0m in \u001b[0;36merror_handler\u001b[0;34m(*args, **kwargs)\u001b[0m\n\u001b[1;32m     62\u001b[0m     \u001b[0mfiltered_tb\u001b[0m \u001b[0;34m=\u001b[0m \u001b[0;32mNone\u001b[0m\u001b[0;34m\u001b[0m\u001b[0;34m\u001b[0m\u001b[0m\n\u001b[1;32m     63\u001b[0m     \u001b[0;32mtry\u001b[0m\u001b[0;34m:\u001b[0m\u001b[0;34m\u001b[0m\u001b[0;34m\u001b[0m\u001b[0m\n\u001b[0;32m---> 64\u001b[0;31m       \u001b[0;32mreturn\u001b[0m \u001b[0mfn\u001b[0m\u001b[0;34m(\u001b[0m\u001b[0;34m*\u001b[0m\u001b[0margs\u001b[0m\u001b[0;34m,\u001b[0m \u001b[0;34m**\u001b[0m\u001b[0mkwargs\u001b[0m\u001b[0;34m)\u001b[0m\u001b[0;34m\u001b[0m\u001b[0;34m\u001b[0m\u001b[0m\n\u001b[0m\u001b[1;32m     65\u001b[0m     \u001b[0;32mexcept\u001b[0m \u001b[0mException\u001b[0m \u001b[0;32mas\u001b[0m \u001b[0me\u001b[0m\u001b[0;34m:\u001b[0m  \u001b[0;31m# pylint: disable=broad-except\u001b[0m\u001b[0;34m\u001b[0m\u001b[0;34m\u001b[0m\u001b[0m\n\u001b[1;32m     66\u001b[0m       \u001b[0mfiltered_tb\u001b[0m \u001b[0;34m=\u001b[0m \u001b[0m_process_traceback_frames\u001b[0m\u001b[0;34m(\u001b[0m\u001b[0me\u001b[0m\u001b[0;34m.\u001b[0m\u001b[0m__traceback__\u001b[0m\u001b[0;34m)\u001b[0m\u001b[0;34m\u001b[0m\u001b[0;34m\u001b[0m\u001b[0m\n",
            "\u001b[0;32m/usr/local/lib/python3.7/dist-packages/keras/engine/training.py\u001b[0m in \u001b[0;36mfit\u001b[0;34m(self, x, y, batch_size, epochs, verbose, callbacks, validation_split, validation_data, shuffle, class_weight, sample_weight, initial_epoch, steps_per_epoch, validation_steps, validation_batch_size, validation_freq, max_queue_size, workers, use_multiprocessing)\u001b[0m\n\u001b[1;32m   1214\u001b[0m                 _r=1):\n\u001b[1;32m   1215\u001b[0m               \u001b[0mcallbacks\u001b[0m\u001b[0;34m.\u001b[0m\u001b[0mon_train_batch_begin\u001b[0m\u001b[0;34m(\u001b[0m\u001b[0mstep\u001b[0m\u001b[0;34m)\u001b[0m\u001b[0;34m\u001b[0m\u001b[0;34m\u001b[0m\u001b[0m\n\u001b[0;32m-> 1216\u001b[0;31m               \u001b[0mtmp_logs\u001b[0m \u001b[0;34m=\u001b[0m \u001b[0mself\u001b[0m\u001b[0;34m.\u001b[0m\u001b[0mtrain_function\u001b[0m\u001b[0;34m(\u001b[0m\u001b[0miterator\u001b[0m\u001b[0;34m)\u001b[0m\u001b[0;34m\u001b[0m\u001b[0;34m\u001b[0m\u001b[0m\n\u001b[0m\u001b[1;32m   1217\u001b[0m               \u001b[0;32mif\u001b[0m \u001b[0mdata_handler\u001b[0m\u001b[0;34m.\u001b[0m\u001b[0mshould_sync\u001b[0m\u001b[0;34m:\u001b[0m\u001b[0;34m\u001b[0m\u001b[0;34m\u001b[0m\u001b[0m\n\u001b[1;32m   1218\u001b[0m                 \u001b[0mcontext\u001b[0m\u001b[0;34m.\u001b[0m\u001b[0masync_wait\u001b[0m\u001b[0;34m(\u001b[0m\u001b[0;34m)\u001b[0m\u001b[0;34m\u001b[0m\u001b[0;34m\u001b[0m\u001b[0m\n",
            "\u001b[0;32m/usr/local/lib/python3.7/dist-packages/tensorflow/python/util/traceback_utils.py\u001b[0m in \u001b[0;36merror_handler\u001b[0;34m(*args, **kwargs)\u001b[0m\n\u001b[1;32m    148\u001b[0m     \u001b[0mfiltered_tb\u001b[0m \u001b[0;34m=\u001b[0m \u001b[0;32mNone\u001b[0m\u001b[0;34m\u001b[0m\u001b[0;34m\u001b[0m\u001b[0m\n\u001b[1;32m    149\u001b[0m     \u001b[0;32mtry\u001b[0m\u001b[0;34m:\u001b[0m\u001b[0;34m\u001b[0m\u001b[0;34m\u001b[0m\u001b[0m\n\u001b[0;32m--> 150\u001b[0;31m       \u001b[0;32mreturn\u001b[0m \u001b[0mfn\u001b[0m\u001b[0;34m(\u001b[0m\u001b[0;34m*\u001b[0m\u001b[0margs\u001b[0m\u001b[0;34m,\u001b[0m \u001b[0;34m**\u001b[0m\u001b[0mkwargs\u001b[0m\u001b[0;34m)\u001b[0m\u001b[0;34m\u001b[0m\u001b[0;34m\u001b[0m\u001b[0m\n\u001b[0m\u001b[1;32m    151\u001b[0m     \u001b[0;32mexcept\u001b[0m \u001b[0mException\u001b[0m \u001b[0;32mas\u001b[0m \u001b[0me\u001b[0m\u001b[0;34m:\u001b[0m\u001b[0;34m\u001b[0m\u001b[0;34m\u001b[0m\u001b[0m\n\u001b[1;32m    152\u001b[0m       \u001b[0mfiltered_tb\u001b[0m \u001b[0;34m=\u001b[0m \u001b[0m_process_traceback_frames\u001b[0m\u001b[0;34m(\u001b[0m\u001b[0me\u001b[0m\u001b[0;34m.\u001b[0m\u001b[0m__traceback__\u001b[0m\u001b[0;34m)\u001b[0m\u001b[0;34m\u001b[0m\u001b[0;34m\u001b[0m\u001b[0m\n",
            "\u001b[0;32m/usr/local/lib/python3.7/dist-packages/tensorflow/python/eager/def_function.py\u001b[0m in \u001b[0;36m__call__\u001b[0;34m(self, *args, **kwds)\u001b[0m\n\u001b[1;32m    908\u001b[0m \u001b[0;34m\u001b[0m\u001b[0m\n\u001b[1;32m    909\u001b[0m       \u001b[0;32mwith\u001b[0m \u001b[0mOptionalXlaContext\u001b[0m\u001b[0;34m(\u001b[0m\u001b[0mself\u001b[0m\u001b[0;34m.\u001b[0m\u001b[0m_jit_compile\u001b[0m\u001b[0;34m)\u001b[0m\u001b[0;34m:\u001b[0m\u001b[0;34m\u001b[0m\u001b[0;34m\u001b[0m\u001b[0m\n\u001b[0;32m--> 910\u001b[0;31m         \u001b[0mresult\u001b[0m \u001b[0;34m=\u001b[0m \u001b[0mself\u001b[0m\u001b[0;34m.\u001b[0m\u001b[0m_call\u001b[0m\u001b[0;34m(\u001b[0m\u001b[0;34m*\u001b[0m\u001b[0margs\u001b[0m\u001b[0;34m,\u001b[0m \u001b[0;34m**\u001b[0m\u001b[0mkwds\u001b[0m\u001b[0;34m)\u001b[0m\u001b[0;34m\u001b[0m\u001b[0;34m\u001b[0m\u001b[0m\n\u001b[0m\u001b[1;32m    911\u001b[0m \u001b[0;34m\u001b[0m\u001b[0m\n\u001b[1;32m    912\u001b[0m       \u001b[0mnew_tracing_count\u001b[0m \u001b[0;34m=\u001b[0m \u001b[0mself\u001b[0m\u001b[0;34m.\u001b[0m\u001b[0mexperimental_get_tracing_count\u001b[0m\u001b[0;34m(\u001b[0m\u001b[0;34m)\u001b[0m\u001b[0;34m\u001b[0m\u001b[0;34m\u001b[0m\u001b[0m\n",
            "\u001b[0;32m/usr/local/lib/python3.7/dist-packages/tensorflow/python/eager/def_function.py\u001b[0m in \u001b[0;36m_call\u001b[0;34m(self, *args, **kwds)\u001b[0m\n\u001b[1;32m    940\u001b[0m       \u001b[0;31m# In this case we have created variables on the first call, so we run the\u001b[0m\u001b[0;34m\u001b[0m\u001b[0;34m\u001b[0m\u001b[0;34m\u001b[0m\u001b[0m\n\u001b[1;32m    941\u001b[0m       \u001b[0;31m# defunned version which is guaranteed to never create variables.\u001b[0m\u001b[0;34m\u001b[0m\u001b[0;34m\u001b[0m\u001b[0;34m\u001b[0m\u001b[0m\n\u001b[0;32m--> 942\u001b[0;31m       \u001b[0;32mreturn\u001b[0m \u001b[0mself\u001b[0m\u001b[0;34m.\u001b[0m\u001b[0m_stateless_fn\u001b[0m\u001b[0;34m(\u001b[0m\u001b[0;34m*\u001b[0m\u001b[0margs\u001b[0m\u001b[0;34m,\u001b[0m \u001b[0;34m**\u001b[0m\u001b[0mkwds\u001b[0m\u001b[0;34m)\u001b[0m  \u001b[0;31m# pylint: disable=not-callable\u001b[0m\u001b[0;34m\u001b[0m\u001b[0;34m\u001b[0m\u001b[0m\n\u001b[0m\u001b[1;32m    943\u001b[0m     \u001b[0;32melif\u001b[0m \u001b[0mself\u001b[0m\u001b[0;34m.\u001b[0m\u001b[0m_stateful_fn\u001b[0m \u001b[0;32mis\u001b[0m \u001b[0;32mnot\u001b[0m \u001b[0;32mNone\u001b[0m\u001b[0;34m:\u001b[0m\u001b[0;34m\u001b[0m\u001b[0;34m\u001b[0m\u001b[0m\n\u001b[1;32m    944\u001b[0m       \u001b[0;31m# Release the lock early so that multiple threads can perform the call\u001b[0m\u001b[0;34m\u001b[0m\u001b[0;34m\u001b[0m\u001b[0;34m\u001b[0m\u001b[0m\n",
            "\u001b[0;32m/usr/local/lib/python3.7/dist-packages/tensorflow/python/eager/function.py\u001b[0m in \u001b[0;36m__call__\u001b[0;34m(self, *args, **kwargs)\u001b[0m\n\u001b[1;32m   3129\u001b[0m        filtered_flat_args) = self._maybe_define_function(args, kwargs)\n\u001b[1;32m   3130\u001b[0m     return graph_function._call_flat(\n\u001b[0;32m-> 3131\u001b[0;31m         filtered_flat_args, captured_inputs=graph_function.captured_inputs)  # pylint: disable=protected-access\n\u001b[0m\u001b[1;32m   3132\u001b[0m \u001b[0;34m\u001b[0m\u001b[0m\n\u001b[1;32m   3133\u001b[0m   \u001b[0;34m@\u001b[0m\u001b[0mproperty\u001b[0m\u001b[0;34m\u001b[0m\u001b[0;34m\u001b[0m\u001b[0m\n",
            "\u001b[0;32m/usr/local/lib/python3.7/dist-packages/tensorflow/python/eager/function.py\u001b[0m in \u001b[0;36m_call_flat\u001b[0;34m(self, args, captured_inputs, cancellation_manager)\u001b[0m\n\u001b[1;32m   1958\u001b[0m       \u001b[0;31m# No tape is watching; skip to running the function.\u001b[0m\u001b[0;34m\u001b[0m\u001b[0;34m\u001b[0m\u001b[0;34m\u001b[0m\u001b[0m\n\u001b[1;32m   1959\u001b[0m       return self._build_call_outputs(self._inference_function.call(\n\u001b[0;32m-> 1960\u001b[0;31m           ctx, args, cancellation_manager=cancellation_manager))\n\u001b[0m\u001b[1;32m   1961\u001b[0m     forward_backward = self._select_forward_and_backward_functions(\n\u001b[1;32m   1962\u001b[0m         \u001b[0margs\u001b[0m\u001b[0;34m,\u001b[0m\u001b[0;34m\u001b[0m\u001b[0;34m\u001b[0m\u001b[0m\n",
            "\u001b[0;32m/usr/local/lib/python3.7/dist-packages/tensorflow/python/eager/function.py\u001b[0m in \u001b[0;36mcall\u001b[0;34m(self, ctx, args, cancellation_manager)\u001b[0m\n\u001b[1;32m    601\u001b[0m               \u001b[0minputs\u001b[0m\u001b[0;34m=\u001b[0m\u001b[0margs\u001b[0m\u001b[0;34m,\u001b[0m\u001b[0;34m\u001b[0m\u001b[0;34m\u001b[0m\u001b[0m\n\u001b[1;32m    602\u001b[0m               \u001b[0mattrs\u001b[0m\u001b[0;34m=\u001b[0m\u001b[0mattrs\u001b[0m\u001b[0;34m,\u001b[0m\u001b[0;34m\u001b[0m\u001b[0;34m\u001b[0m\u001b[0m\n\u001b[0;32m--> 603\u001b[0;31m               ctx=ctx)\n\u001b[0m\u001b[1;32m    604\u001b[0m         \u001b[0;32melse\u001b[0m\u001b[0;34m:\u001b[0m\u001b[0;34m\u001b[0m\u001b[0;34m\u001b[0m\u001b[0m\n\u001b[1;32m    605\u001b[0m           outputs = execute.execute_with_cancellation(\n",
            "\u001b[0;32m/usr/local/lib/python3.7/dist-packages/tensorflow/python/eager/execute.py\u001b[0m in \u001b[0;36mquick_execute\u001b[0;34m(op_name, num_outputs, inputs, attrs, ctx, name)\u001b[0m\n\u001b[1;32m     57\u001b[0m     \u001b[0mctx\u001b[0m\u001b[0;34m.\u001b[0m\u001b[0mensure_initialized\u001b[0m\u001b[0;34m(\u001b[0m\u001b[0;34m)\u001b[0m\u001b[0;34m\u001b[0m\u001b[0;34m\u001b[0m\u001b[0m\n\u001b[1;32m     58\u001b[0m     tensors = pywrap_tfe.TFE_Py_Execute(ctx._handle, device_name, op_name,\n\u001b[0;32m---> 59\u001b[0;31m                                         inputs, attrs, num_outputs)\n\u001b[0m\u001b[1;32m     60\u001b[0m   \u001b[0;32mexcept\u001b[0m \u001b[0mcore\u001b[0m\u001b[0;34m.\u001b[0m\u001b[0m_NotOkStatusException\u001b[0m \u001b[0;32mas\u001b[0m \u001b[0me\u001b[0m\u001b[0;34m:\u001b[0m\u001b[0;34m\u001b[0m\u001b[0;34m\u001b[0m\u001b[0m\n\u001b[1;32m     61\u001b[0m     \u001b[0;32mif\u001b[0m \u001b[0mname\u001b[0m \u001b[0;32mis\u001b[0m \u001b[0;32mnot\u001b[0m \u001b[0;32mNone\u001b[0m\u001b[0;34m:\u001b[0m\u001b[0;34m\u001b[0m\u001b[0;34m\u001b[0m\u001b[0m\n",
            "\u001b[0;31mKeyboardInterrupt\u001b[0m: "
          ]
        }
      ]
    },
    {
      "cell_type": "code",
      "source": [
        "optimal_F1_model=model_RNN.fit(X_train_RNN, Y_train_RNN, epochs = 2, batch_size=batch_size, verbose = 2)"
      ],
      "metadata": {
        "colab": {
          "base_uri": "https://localhost:8080/"
        },
        "id": "YNOkjHSauSqW",
        "outputId": "12763530-de53-48bb-d4c9-1a20dfc5a3ab"
      },
      "execution_count": null,
      "outputs": [
        {
          "output_type": "stream",
          "name": "stdout",
          "text": [
            "Epoch 1/2\n",
            "223/223 - 103s - loss: 0.0652 - f1_score: 0.9311 - 103s/epoch - 462ms/step\n",
            "Epoch 2/2\n",
            "223/223 - 92s - loss: 0.0639 - f1_score: 0.9238 - 92s/epoch - 412ms/step\n"
          ]
        }
      ]
    },
    {
      "cell_type": "code",
      "source": [
        "#For graphical purposes\n",
        "f1_rnn=[0.6341,0.6219,0.6282,0.6287]"
      ],
      "metadata": {
        "id": "XUHTJMPS5wsS"
      },
      "execution_count": null,
      "outputs": []
    },
    {
      "cell_type": "code",
      "source": [
        "Acc_RNN_final_res=accuracy_score(model_RNN.predict(X_test_RNN).ravel() > 0.5, (Y_test_RNN>0.5).ravel())"
      ],
      "metadata": {
        "id": "21_almMkwPfP"
      },
      "execution_count": null,
      "outputs": []
    },
    {
      "cell_type": "code",
      "source": [
        "Metrics_list.append(\"Metrics_RNN_accuracy\")\n",
        "Metrics_score.append(Acc_RNN_final_res)"
      ],
      "metadata": {
        "colab": {
          "base_uri": "https://localhost:8080/",
          "height": 183
        },
        "id": "zl-wpkjzIGoy",
        "outputId": "c71bdda6-dc8e-4f5b-8a86-ff3a693002e7"
      },
      "execution_count": 3,
      "outputs": [
        {
          "output_type": "error",
          "ename": "NameError",
          "evalue": "ignored",
          "traceback": [
            "\u001b[0;31m---------------------------------------------------------------------------\u001b[0m",
            "\u001b[0;31mNameError\u001b[0m                                 Traceback (most recent call last)",
            "\u001b[0;32m<ipython-input-3-16f13c85ba5c>\u001b[0m in \u001b[0;36m<module>\u001b[0;34m()\u001b[0m\n\u001b[0;32m----> 1\u001b[0;31m \u001b[0mMetrics_list\u001b[0m\u001b[0;34m.\u001b[0m\u001b[0mappend\u001b[0m\u001b[0;34m(\u001b[0m\u001b[0;34m\"Metrics_RNN_accuracy\"\u001b[0m\u001b[0;34m)\u001b[0m\u001b[0;34m\u001b[0m\u001b[0;34m\u001b[0m\u001b[0m\n\u001b[0m\u001b[1;32m      2\u001b[0m \u001b[0mMetrics_score\u001b[0m\u001b[0;34m.\u001b[0m\u001b[0mappend\u001b[0m\u001b[0;34m(\u001b[0m\u001b[0mAcc_RNN_final_res\u001b[0m\u001b[0;34m)\u001b[0m\u001b[0;34m\u001b[0m\u001b[0;34m\u001b[0m\u001b[0m\n",
            "\u001b[0;31mNameError\u001b[0m: name 'Metrics_list' is not defined"
          ]
        }
      ]
    },
    {
      "cell_type": "code",
      "source": [
        "RNN_optimal_f1=model_RNN.evaluate(X_test_RNN, Y_test_RNN)[0]"
      ],
      "metadata": {
        "colab": {
          "base_uri": "https://localhost:8080/"
        },
        "id": "REm1O14evOqi",
        "outputId": "1ca0e668-ecd9-42e4-fe28-03dd6218db76"
      },
      "execution_count": null,
      "outputs": [
        {
          "output_type": "stream",
          "name": "stdout",
          "text": [
            "74/74 [==============================] - 4s 57ms/step - loss: 0.5370 - f1_score: 0.6402\n"
          ]
        }
      ]
    },
    {
      "cell_type": "code",
      "source": [
        "F1_score.append(RNN_optimal_f1)\n",
        "F1_list.append(\"RNN\")"
      ],
      "metadata": {
        "colab": {
          "base_uri": "https://localhost:8080/",
          "height": 183
        },
        "id": "IGh-FsCSHhzN",
        "outputId": "0e5d8181-320e-4539-808b-137318308c04"
      },
      "execution_count": 4,
      "outputs": [
        {
          "output_type": "error",
          "ename": "NameError",
          "evalue": "ignored",
          "traceback": [
            "\u001b[0;31m---------------------------------------------------------------------------\u001b[0m",
            "\u001b[0;31mNameError\u001b[0m                                 Traceback (most recent call last)",
            "\u001b[0;32m<ipython-input-4-975606643e5d>\u001b[0m in \u001b[0;36m<module>\u001b[0;34m()\u001b[0m\n\u001b[0;32m----> 1\u001b[0;31m \u001b[0mF1_score\u001b[0m\u001b[0;34m.\u001b[0m\u001b[0mappend\u001b[0m\u001b[0;34m(\u001b[0m\u001b[0mRNN_optimal_f1\u001b[0m\u001b[0;34m)\u001b[0m\u001b[0;34m\u001b[0m\u001b[0;34m\u001b[0m\u001b[0m\n\u001b[0m\u001b[1;32m      2\u001b[0m \u001b[0mF1_list\u001b[0m\u001b[0;34m.\u001b[0m\u001b[0mappend\u001b[0m\u001b[0;34m(\u001b[0m\u001b[0;34m\"RNN\"\u001b[0m\u001b[0;34m)\u001b[0m\u001b[0;34m\u001b[0m\u001b[0;34m\u001b[0m\u001b[0m\n",
            "\u001b[0;31mNameError\u001b[0m: name 'F1_score' is not defined"
          ]
        }
      ]
    },
    {
      "cell_type": "code",
      "source": [
        ""
      ],
      "metadata": {
        "id": "8RXHwGzuHpHC"
      },
      "execution_count": null,
      "outputs": []
    },
    {
      "cell_type": "code",
      "source": [
        "#plt.plot(eps_list, RNN_accuracy_results, label=\"line1\")\n",
        "plt.plot(list(range(len(f1_rnn))), f1_rnn, label=\"line2\")\n",
        "plt.title('Plot of Epoch number Vs test value for RNN')\n",
        "plt.xlabel('Epoch Number')\n",
        "plt.ylabel('Test value')\n",
        "plt.legend()\n",
        "plt.show()"
      ],
      "metadata": {
        "colab": {
          "base_uri": "https://localhost:8080/",
          "height": 295
        },
        "id": "EXdt-EIN721P",
        "outputId": "0cd5a50f-68b0-4c05-b33f-697fb71d7b20"
      },
      "execution_count": null,
      "outputs": [
        {
          "output_type": "display_data",
          "data": {
            "image/png": "[encoded data removed]",
            "text/plain": [
              "<Figure size 432x288 with 1 Axes>"
            ]
          },
          "metadata": {
            "needs_background": "light"
          }
        }
      ]
    },
    {
      "cell_type": "code",
      "execution_count": null,
      "metadata": {
        "id": "zejtzmp-KIVz",
        "colab": {
          "base_uri": "https://localhost:8080/"
        },
        "outputId": "a505d889-542d-4fe9-ef93-cd845bd6b9f1"
      },
      "outputs": [
        {
          "output_type": "stream",
          "name": "stdout",
          "text": [
            "Epoch 1/2\n",
            "223/223 - 96s - loss: 0.0050 - accuracy: 0.9985 - 96s/epoch - 430ms/step\n",
            "Epoch 2/2\n",
            "223/223 - 92s - loss: 0.0091 - accuracy: 0.9965 - 92s/epoch - 411ms/step\n"
          ]
        },
        {
          "output_type": "execute_result",
          "data": {
            "text/plain": [
              "<keras.callbacks.History at 0x7febf5e47d50>"
            ]
          },
          "metadata": {},
          "execution_count": 313
        }
      ],
      "source": [
        "model_RNN.fit(X_train_RNN, Y_train_RNN, epochs = 2, batch_size=batch_size, verbose = 2)"
      ]
    },
    {
      "cell_type": "code",
      "source": [
        "model_RNN.evaluate(X_test_RNN, Y_test_RNN)"
      ],
      "metadata": {
        "colab": {
          "base_uri": "https://localhost:8080/"
        },
        "id": "Rg9u21yCKHn7",
        "outputId": "79c80480-9f91-4ce5-bc0a-3c18722036c8"
      },
      "execution_count": null,
      "outputs": [
        {
          "output_type": "stream",
          "name": "stdout",
          "text": [
            "74/74 [==============================] - 7s 99ms/step - loss: 1.1320 - accuracy: 0.8637\n"
          ]
        },
        {
          "output_type": "execute_result",
          "data": {
            "text/plain": [
              "[1.132049322128296, 0.8636752367019653]"
            ]
          },
          "metadata": {},
          "execution_count": 314
        }
      ]
    },
    {
      "cell_type": "code",
      "source": [
        ""
      ],
      "metadata": {
        "id": "8mUaKhLnuYwf"
      },
      "execution_count": null,
      "outputs": []
    },
    {
      "cell_type": "code",
      "source": [
        "y_pred_RNN = ((model_RNN.predict(X_test_RNN).ravel()) > 0.5) \n",
        "Y_test_RNN_convert=(Y_test_RNN>0.5).ravel()"
      ],
      "metadata": {
        "id": "iNs8-Ijdnku1"
      },
      "execution_count": null,
      "outputs": []
    },
    {
      "cell_type": "code",
      "execution_count": null,
      "metadata": {
        "id": "5vP3mnImDO9f",
        "colab": {
          "base_uri": "https://localhost:8080/"
        },
        "outputId": "2a5c297f-3ad2-469a-c1a6-4a0393e7792a"
      },
      "outputs": [
        {
          "output_type": "stream",
          "name": "stdout",
          "text": [
            "              precision    recall  f1-score   support\n",
            "\n",
            "       False       0.87      0.87      0.87      2340\n",
            "        True       0.87      0.87      0.87      2340\n",
            "\n",
            "    accuracy                           0.87      4680\n",
            "   macro avg       0.87      0.87      0.87      4680\n",
            "weighted avg       0.87      0.87      0.87      4680\n",
            "\n"
          ]
        }
      ],
      "source": [
        "CR_RNN=classification_report(Y_test_RNN_convert, y_pred_RNN)\n",
        "print(CR_RNN)"
      ]
    },
    {
      "cell_type": "code",
      "execution_count": null,
      "metadata": {
        "id": "Du-Pj9sGV7ql"
      },
      "outputs": [],
      "source": [
        "PCL_correct, not_PCL_correct, PCL_cnt, not_PCL_cnt = 0, 0, 0, 0\n",
        "for x in range(len(X_validate_RNN)):\n",
        "    \n",
        "    result = model_RNN.predict(X_validate_RNN[x].reshape(1,X_test_RNN.shape[1]),batch_size=1,verbose = 2)[0]\n",
        "   \n",
        "    if np.argmax(result) == np.argmax(Y_validate_RNN[x]):\n",
        "        if np.argmax(Y_validate_RNN[x]) == 0:\n",
        "            not_PCL_correct += 1\n",
        "        else:\n",
        "            PCL_correct += 1\n",
        "       \n",
        "    if np.argmax(Y_validate_RNN[x]) == 0:\n",
        "        not_PCL_cnt += 1\n",
        "    else:\n",
        "        PCL_cnt += 1\n",
        "\n",
        "\n",
        "PCL_RNN_acc=PCL_correct/PCL_cnt*100\n",
        "not_PCL_RNN_acc=not_PCL_correct/not_PCL_cnt*100\n"
      ]
    },
    {
      "cell_type": "code",
      "execution_count": null,
      "metadata": {
        "colab": {
          "base_uri": "https://localhost:8080/"
        },
        "id": "iSzhqXgXV7lP",
        "outputId": "5c1e4ff4-24ce-4934-9dfb-7e3ecd9ded14"
      },
      "outputs": [
        {
          "name": "stdout",
          "output_type": "stream",
          "text": [
            "PCL_correct_acc 0.0 %\n",
            "not_PCL_correct_acc 100.0 %\n"
          ]
        }
      ],
      "source": [
        "print(\"PCL_correct_acc\", PCL_RNN_acc, \"%\")\n",
        "print(\"not_PCL_correct_acc\", not_PCL_RNN_acc, \"%\")"
      ]
    },
    {
      "cell_type": "markdown",
      "metadata": {
        "id": "iK3kCPkphlcO"
      },
      "source": [
        "# Compare results"
      ]
    },
    {
      "cell_type": "code",
      "source": [
        "plt.plot(list(range(1,16)), CNN_f1_results_total, label = \"CNN F1\")\n",
        "plt.title('Plot of Epoch number Vs F1 test value')\n",
        "plt.xlabel('Epoch Number')\n",
        "plt.ylabel('Test value')\n",
        "plt.legend()\n",
        "plt.show()"
      ],
      "metadata": {
        "colab": {
          "base_uri": "https://localhost:8080/",
          "height": 295
        },
        "id": "sCDIpnfbRu5s",
        "outputId": "bbff0a5e-6789-47cf-8d37-710bb68971b2"
      },
      "execution_count": null,
      "outputs": [
        {
          "output_type": "display_data",
          "data": {
            "image/png": "[encoded data removed]",
            "text/plain": [
              "<Figure size 432x288 with 1 Axes>"
            ]
          },
          "metadata": {
            "needs_background": "light"
          }
        }
      ]
    },
    {
      "cell_type": "code",
      "execution_count": null,
      "metadata": {
        "id": "OZtASWPxhlJF",
        "colab": {
          "base_uri": "https://localhost:8080/",
          "height": 295
        },
        "outputId": "be9f09e3-25c2-4ca9-e5e8-58814329d70b"
      },
      "outputs": [
        {
          "output_type": "display_data",
          "data": {
            "image/png": "[encoded data removed]",
            "text/plain": [
              "<Figure size 432x288 with 1 Axes>"
            ]
          },
          "metadata": {
            "needs_background": "light"
          }
        }
      ],
      "source": [
        "plt.plot(NB_EPOCHS_CNN, CNN_acc_results, label = \"CNN Accuracy\")\n",
        "#plt.plot(list(range(1,16)), CNN_f1_results_total, label = \"CNN F1\")\n",
        "plt.plot(list(range(1,10)), RNN_acc_total, label=\"RNN Accuracy\")\n",
        "#plt.plot(eps_list, RNN_f1_results, label=\"RNN F1\")\n",
        "\n",
        "plt.title('Plot of Epoch number Vs Accuracy test value')\n",
        "plt.xlabel('Epoch Number')\n",
        "plt.ylabel('Test value')\n",
        "plt.legend()\n",
        "plt.show()"
      ]
    },
    {
      "cell_type": "code",
      "source": [
        "#plt.plot(NB_EPOCHS_CNN, CNN_acc_results, label = \"CNN Accuracy\")\n",
        "plt.plot(list(range(1,16)), CNN_f1_results_total, label = \"CNN F1\")\n",
        "#plt.plot(eps_list, RNN_accuracy_results, label=\"RNN Accuracy\")\n",
        "#plt.plot(eps_list, RNN_f1_results, label=\"RNN F1\")\n",
        "plt.title('Plot of Epoch number Vs test value for CNN')\n",
        "plt.xlabel('Epoch Number')\n",
        "plt.ylabel('Test value')\n",
        "plt.legend()\n",
        "plt.show()"
      ],
      "metadata": {
        "colab": {
          "base_uri": "https://localhost:8080/",
          "height": 295
        },
        "id": "Hgn9FLgPJE7j",
        "outputId": "8a76ec8e-b92b-4965-dc08-ed2a85aad8d1"
      },
      "execution_count": null,
      "outputs": [
        {
          "output_type": "display_data",
          "data": {
            "image/png": "[encoded data removed]",
            "text/plain": [
              "<Figure size 432x288 with 1 Axes>"
            ]
          },
          "metadata": {
            "needs_background": "light"
          }
        }
      ]
    },
    {
      "cell_type": "code",
      "source": [
        "Metrics_list.append(\"RNN\")\n",
        "Metrics_list.append(\"Bert\")"
      ],
      "metadata": {
        "id": "2ENhrSs3APVJ"
      },
      "execution_count": null,
      "outputs": []
    },
    {
      "cell_type": "code",
      "source": [
        "F1_score[1]"
      ],
      "metadata": {
        "colab": {
          "base_uri": "https://localhost:8080/"
        },
        "id": "zndjI03wAnGw",
        "outputId": "55d03ad5-2112-4f73-a107-16d7c4f0e598"
      },
      "execution_count": null,
      "outputs": [
        {
          "output_type": "execute_result",
          "data": {
            "text/plain": [
              "0.35489220563847423"
            ]
          },
          "metadata": {},
          "execution_count": 427
        }
      ]
    },
    {
      "cell_type": "code",
      "source": [
        "Metrics_score.append(Acc_RNN_final_res)\n",
        "Metrics_score.append(0.9046)"
      ],
      "metadata": {
        "id": "vhF-J-jCAQzx"
      },
      "execution_count": null,
      "outputs": []
    },
    {
      "cell_type": "code",
      "source": [
        "plt.figure(figsize = (8, 6))\n",
        "plt.bar(Metrics_list,Metrics_score, align = 'center', color = 'blue')\n",
        "plt.title('Comparison of Accuracy performance from different models')\n",
        "plt.xlabel('Models')\n",
        "plt.ylabel('Accuracy score')\n",
        "plt.ylim(0.75, 1.0)\n",
        "plt.grid()\n",
        "#plt.savefig('Model_compare.jpeg')\n",
        "plt.show()"
      ],
      "metadata": {
        "colab": {
          "base_uri": "https://localhost:8080/",
          "height": 405
        },
        "id": "wkhHOr43AKKw",
        "outputId": "f669b83f-8854-4df1-b856-13db0c416559"
      },
      "execution_count": null,
      "outputs": [
        {
          "output_type": "display_data",
          "data": {
            "image/png": "[encoded data removed]",
            "text/plain": [
              "<Figure size 576x432 with 1 Axes>"
            ]
          },
          "metadata": {
            "needs_background": "light"
          }
        }
      ]
    },
    {
      "cell_type": "code",
      "execution_count": null,
      "metadata": {
        "id": "aeKUgw4VhlBe",
        "colab": {
          "base_uri": "https://localhost:8080/",
          "height": 405
        },
        "outputId": "732919d9-9857-411a-920d-dd2ccbbf2d88"
      },
      "outputs": [
        {
          "output_type": "display_data",
          "data": {
            "image/png": "[encoded data removed]",
            "text/plain": [
              "<Figure size 576x432 with 1 Axes>"
            ]
          },
          "metadata": {
            "needs_background": "light"
          }
        }
      ],
      "source": [
        "plt.figure(figsize = (8, 6))\n",
        "plt.bar(f1_list,f1, align = 'center', color = 'blue')\n",
        "plt.title('Comparison of F1 performance from different models')\n",
        "plt.xlabel('Models')\n",
        "plt.ylabel('F1 score')\n",
        "plt.ylim(0.1, 1.0)\n",
        "plt.grid()\n",
        "#plt.savefig('Model_compare.jpeg')\n",
        "plt.show()"
      ]
    }
  ],
  "metadata": {
    "colab": {
      "collapsed_sections": [
        "WTNtqONoFzZW"
      ],
      "name": "CNN_RNN_SVM_Group_J",
      "provenance": []
    },
    "kernelspec": {
      "display_name": "Python 3",
      "name": "python3"
    },
    "language_info": {
      "name": "python"
    }
  },
  "nbformat": 4,
  "nbformat_minor": 0
}